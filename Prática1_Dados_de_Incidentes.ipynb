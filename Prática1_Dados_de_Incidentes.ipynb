{
  "nbformat": 4,
  "nbformat_minor": 0,
  "metadata": {
    "colab": {
      "name": "Prática1 - Dados de Incidentes.ipynb",
      "provenance": [],
      "collapsed_sections": [],
      "authorship_tag": "ABX9TyOkWz5e0yVQ0buzPpqzLda1",
      "include_colab_link": true
    },
    "kernelspec": {
      "name": "python3",
      "display_name": "Python 3"
    }
  },
  "cells": [
    {
      "cell_type": "markdown",
      "metadata": {
        "id": "view-in-github",
        "colab_type": "text"
      },
      "source": [
        "<a href=\"https://colab.research.google.com/github/Alissonfersoa/python-exercicios/blob/master/Pr%C3%A1tica1_Dados_de_Incidentes.ipynb\" target=\"_parent\"><img src=\"https://colab.research.google.com/assets/colab-badge.svg\" alt=\"Open In Colab\"/></a>"
      ]
    },
    {
      "cell_type": "markdown",
      "metadata": {
        "id": "ySc7N2gCb8Zm"
      },
      "source": [
        "Importando bibliotecas que serão utilizadas\n",
        "\n",
        "pandas - para criação do meu dataframe"
      ]
    },
    {
      "cell_type": "code",
      "metadata": {
        "id": "KeCcglEIVZG9"
      },
      "source": [
        "## importing libraries\n",
        "## notice to import %matplotlib inline to plot within notebook\n",
        "import pandas as pd\n",
        "%matplotlib inline\n",
        "import matplotlib.pyplot as plt\n"
      ],
      "execution_count": 21,
      "outputs": []
    },
    {
      "cell_type": "markdown",
      "metadata": {
        "id": "NWHoI8D6bvrV"
      },
      "source": [
        "Buscando os dados que serão trabalhados, esse comando serve para fazer o downloa do .csv dentro do portal do governo de São Francisco"
      ]
    },
    {
      "cell_type": "code",
      "metadata": {
        "colab": {
          "base_uri": "https://localhost:8080/"
        },
        "id": "31fT8mCUVuQ4",
        "outputId": "c086d6a2-c9ae-4b57-9548-f32af4021b19"
      },
      "source": [
        "!wget https://data.sfgov.org/api/views/tmnf-yvry/rows.csv"
      ],
      "execution_count": 5,
      "outputs": [
        {
          "output_type": "stream",
          "text": [
            "--2020-11-29 23:39:07--  https://data.sfgov.org/api/views/tmnf-yvry/rows.csv\n",
            "Resolving data.sfgov.org (data.sfgov.org)... 52.206.140.199, 52.206.140.205, 52.206.68.26\n",
            "Connecting to data.sfgov.org (data.sfgov.org)|52.206.140.199|:443... connected.\n",
            "HTTP request sent, awaiting response... 200 OK\n",
            "Length: unspecified [text/csv]\n",
            "Saving to: ‘rows.csv’\n",
            "\n",
            "rows.csv                [        <=>         ] 533.27M  3.82MB/s    in 2m 19s  \n",
            "\n",
            "2020-11-29 23:41:26 (3.84 MB/s) - ‘rows.csv’ saved [559169754]\n",
            "\n"
          ],
          "name": "stdout"
        }
      ]
    },
    {
      "cell_type": "markdown",
      "metadata": {
        "id": "C74Jevg0bpBV"
      },
      "source": [
        "Verificando se o arquivo foi baixado corretamente e está em um diretorio da máquina"
      ]
    },
    {
      "cell_type": "code",
      "metadata": {
        "colab": {
          "base_uri": "https://localhost:8080/"
        },
        "id": "SQl0b6reVvnu",
        "outputId": "66cc60c4-4f1e-49f7-e81b-b8b94d986206"
      },
      "source": [
        "!ls -ls"
      ],
      "execution_count": 7,
      "outputs": [
        {
          "output_type": "stream",
          "text": [
            "total 546076\n",
            "546072 -rw-r--r-- 1 root root 559169754 Aug 17 16:09 rows.csv\n",
            "     4 drwxr-xr-x 1 root root      4096 Nov 13 17:33 sample_data\n"
          ],
          "name": "stdout"
        }
      ]
    },
    {
      "cell_type": "markdown",
      "metadata": {
        "id": "LI2rVwtFbgVN"
      },
      "source": [
        "Calculo de tempo gasto para a leitura com comando %%time e importação do arquivo .csv como um data frame"
      ]
    },
    {
      "cell_type": "code",
      "metadata": {
        "colab": {
          "base_uri": "https://localhost:8080/"
        },
        "id": "yfO8Yr7VYwbw",
        "outputId": "8855148a-c386-46dc-de62-20c1cf46437d"
      },
      "source": [
        "%%time\n",
        "\n",
        "df = pd.read_csv('rows.csv', sep=',')"
      ],
      "execution_count": 23,
      "outputs": [
        {
          "output_type": "stream",
          "text": [
            "CPU times: user 8.29 s, sys: 495 ms, total: 8.79 s\n",
            "Wall time: 8.8 s\n"
          ],
          "name": "stdout"
        }
      ]
    },
    {
      "cell_type": "markdown",
      "metadata": {
        "id": "1RskJdi9bZDt"
      },
      "source": [
        "Verificando os nomes de cabeçalhos das colunas dentro do data frame"
      ]
    },
    {
      "cell_type": "code",
      "metadata": {
        "colab": {
          "base_uri": "https://localhost:8080/"
        },
        "id": "hxkipSsFYwqi",
        "outputId": "a4c1f6f0-ba66-453b-8b39-32039802c43d"
      },
      "source": [
        "df.columns"
      ],
      "execution_count": 24,
      "outputs": [
        {
          "output_type": "execute_result",
          "data": {
            "text/plain": [
              "Index(['PdId', 'IncidntNum', 'Incident Code', 'Category', 'Descript',\n",
              "       'DayOfWeek', 'Date', 'Time', 'PdDistrict', 'Resolution', 'Address', 'X',\n",
              "       'Y', 'location', 'SF Find Neighborhoods 2 2',\n",
              "       'Current Police Districts 2 2', 'Current Supervisor Districts 2 2',\n",
              "       'Analysis Neighborhoods 2 2', 'DELETE - Fire Prevention Districts 2 2',\n",
              "       'DELETE - Police Districts 2 2', 'DELETE - Supervisor Districts 2 2',\n",
              "       'DELETE - Zip Codes 2 2', 'DELETE - Neighborhoods 2 2',\n",
              "       'DELETE - 2017 Fix It Zones 2 2',\n",
              "       'Civic Center Harm Reduction Project Boundary 2 2',\n",
              "       'Fix It Zones as of 2017-11-06  2 2', 'DELETE - HSOC Zones 2 2',\n",
              "       'Fix It Zones as of 2018-02-07 2 2',\n",
              "       'CBD, BID and GBD Boundaries as of 2017 2 2',\n",
              "       'Areas of Vulnerability, 2016 2 2',\n",
              "       'Central Market/Tenderloin Boundary 2 2',\n",
              "       'Central Market/Tenderloin Boundary Polygon - Updated 2 2',\n",
              "       'HSOC Zones as of 2018-06-05 2 2', 'OWED Public Spaces 2 2',\n",
              "       'Neighborhoods 2'],\n",
              "      dtype='object')"
            ]
          },
          "metadata": {
            "tags": []
          },
          "execution_count": 24
        }
      ]
    },
    {
      "cell_type": "markdown",
      "metadata": {
        "id": "TrX7PXkAbS0n"
      },
      "source": [
        "Comando len para contar a quantidade de colunas contidas dentro do meu data frame"
      ]
    },
    {
      "cell_type": "code",
      "metadata": {
        "colab": {
          "base_uri": "https://localhost:8080/"
        },
        "id": "rbUY2mYfYw3M",
        "outputId": "bb854d17-f5da-4723-d299-dea0d7fecaf2"
      },
      "source": [
        "len(df.columns)"
      ],
      "execution_count": 25,
      "outputs": [
        {
          "output_type": "execute_result",
          "data": {
            "text/plain": [
              "35"
            ]
          },
          "metadata": {
            "tags": []
          },
          "execution_count": 25
        }
      ]
    },
    {
      "cell_type": "markdown",
      "metadata": {
        "id": "1jDBsDD8bNTF"
      },
      "source": [
        "Comando df.head para visualizar os cinco primeiros itens do meu data frame"
      ]
    },
    {
      "cell_type": "code",
      "metadata": {
        "colab": {
          "base_uri": "https://localhost:8080/",
          "height": 501
        },
        "id": "69c6e3B8YxDl",
        "outputId": "5f8d8ad3-772a-44a6-f4f5-5b76977ed976"
      },
      "source": [
        "df.head(5)"
      ],
      "execution_count": 26,
      "outputs": [
        {
          "output_type": "execute_result",
          "data": {
            "text/html": [
              "<div>\n",
              "<style scoped>\n",
              "    .dataframe tbody tr th:only-of-type {\n",
              "        vertical-align: middle;\n",
              "    }\n",
              "\n",
              "    .dataframe tbody tr th {\n",
              "        vertical-align: top;\n",
              "    }\n",
              "\n",
              "    .dataframe thead th {\n",
              "        text-align: right;\n",
              "    }\n",
              "</style>\n",
              "<table border=\"1\" class=\"dataframe\">\n",
              "  <thead>\n",
              "    <tr style=\"text-align: right;\">\n",
              "      <th></th>\n",
              "      <th>PdId</th>\n",
              "      <th>IncidntNum</th>\n",
              "      <th>Incident Code</th>\n",
              "      <th>Category</th>\n",
              "      <th>Descript</th>\n",
              "      <th>DayOfWeek</th>\n",
              "      <th>Date</th>\n",
              "      <th>Time</th>\n",
              "      <th>PdDistrict</th>\n",
              "      <th>Resolution</th>\n",
              "      <th>Address</th>\n",
              "      <th>X</th>\n",
              "      <th>Y</th>\n",
              "      <th>location</th>\n",
              "      <th>SF Find Neighborhoods 2 2</th>\n",
              "      <th>Current Police Districts 2 2</th>\n",
              "      <th>Current Supervisor Districts 2 2</th>\n",
              "      <th>Analysis Neighborhoods 2 2</th>\n",
              "      <th>DELETE - Fire Prevention Districts 2 2</th>\n",
              "      <th>DELETE - Police Districts 2 2</th>\n",
              "      <th>DELETE - Supervisor Districts 2 2</th>\n",
              "      <th>DELETE - Zip Codes 2 2</th>\n",
              "      <th>DELETE - Neighborhoods 2 2</th>\n",
              "      <th>DELETE - 2017 Fix It Zones 2 2</th>\n",
              "      <th>Civic Center Harm Reduction Project Boundary 2 2</th>\n",
              "      <th>Fix It Zones as of 2017-11-06  2 2</th>\n",
              "      <th>DELETE - HSOC Zones 2 2</th>\n",
              "      <th>Fix It Zones as of 2018-02-07 2 2</th>\n",
              "      <th>CBD, BID and GBD Boundaries as of 2017 2 2</th>\n",
              "      <th>Areas of Vulnerability, 2016 2 2</th>\n",
              "      <th>Central Market/Tenderloin Boundary 2 2</th>\n",
              "      <th>Central Market/Tenderloin Boundary Polygon - Updated 2 2</th>\n",
              "      <th>HSOC Zones as of 2018-06-05 2 2</th>\n",
              "      <th>OWED Public Spaces 2 2</th>\n",
              "      <th>Neighborhoods 2</th>\n",
              "    </tr>\n",
              "  </thead>\n",
              "  <tbody>\n",
              "    <tr>\n",
              "      <th>0</th>\n",
              "      <td>7121491514040</td>\n",
              "      <td>71214915</td>\n",
              "      <td>14040</td>\n",
              "      <td>OTHER OFFENSES</td>\n",
              "      <td>INDECENT EXPOSURE</td>\n",
              "      <td>Tuesday</td>\n",
              "      <td>11/27/2007</td>\n",
              "      <td>13:53</td>\n",
              "      <td>NORTHERN</td>\n",
              "      <td>ARREST, CITED</td>\n",
              "      <td>600 Block of TURK ST</td>\n",
              "      <td>-122.419821</td>\n",
              "      <td>37.782009</td>\n",
              "      <td>POINT (-122.41982062806301 37.782008780606)</td>\n",
              "      <td>21.0</td>\n",
              "      <td>4.0</td>\n",
              "      <td>10.0</td>\n",
              "      <td>36.0</td>\n",
              "      <td>7.0</td>\n",
              "      <td>9.0</td>\n",
              "      <td>9.0</td>\n",
              "      <td>28852.0</td>\n",
              "      <td>36.0</td>\n",
              "      <td>NaN</td>\n",
              "      <td>1.0</td>\n",
              "      <td>NaN</td>\n",
              "      <td>1.0</td>\n",
              "      <td>NaN</td>\n",
              "      <td>8.0</td>\n",
              "      <td>2.0</td>\n",
              "      <td>1.0</td>\n",
              "      <td>1.0</td>\n",
              "      <td>1.0</td>\n",
              "      <td>NaN</td>\n",
              "      <td>21.0</td>\n",
              "    </tr>\n",
              "    <tr>\n",
              "      <th>1</th>\n",
              "      <td>7036663851040</td>\n",
              "      <td>70366638</td>\n",
              "      <td>51040</td>\n",
              "      <td>NON-CRIMINAL</td>\n",
              "      <td>AIDED CASE</td>\n",
              "      <td>Tuesday</td>\n",
              "      <td>03/20/2007</td>\n",
              "      <td>23:10</td>\n",
              "      <td>TARAVAL</td>\n",
              "      <td>NONE</td>\n",
              "      <td>2400 Block of 15TH AV</td>\n",
              "      <td>-122.471221</td>\n",
              "      <td>37.742297</td>\n",
              "      <td>POINT (-122.47122106942999 37.7422967951105)</td>\n",
              "      <td>46.0</td>\n",
              "      <td>10.0</td>\n",
              "      <td>8.0</td>\n",
              "      <td>41.0</td>\n",
              "      <td>1.0</td>\n",
              "      <td>8.0</td>\n",
              "      <td>4.0</td>\n",
              "      <td>29491.0</td>\n",
              "      <td>40.0</td>\n",
              "      <td>NaN</td>\n",
              "      <td>NaN</td>\n",
              "      <td>NaN</td>\n",
              "      <td>NaN</td>\n",
              "      <td>NaN</td>\n",
              "      <td>NaN</td>\n",
              "      <td>1.0</td>\n",
              "      <td>NaN</td>\n",
              "      <td>NaN</td>\n",
              "      <td>NaN</td>\n",
              "      <td>NaN</td>\n",
              "      <td>46.0</td>\n",
              "    </tr>\n",
              "    <tr>\n",
              "      <th>2</th>\n",
              "      <td>4059322571000</td>\n",
              "      <td>40593225</td>\n",
              "      <td>71000</td>\n",
              "      <td>NON-CRIMINAL</td>\n",
              "      <td>LOST PROPERTY</td>\n",
              "      <td>Thursday</td>\n",
              "      <td>05/20/2004</td>\n",
              "      <td>12:00</td>\n",
              "      <td>TARAVAL</td>\n",
              "      <td>NONE</td>\n",
              "      <td>19TH AV / WAWONA ST</td>\n",
              "      <td>-122.475288</td>\n",
              "      <td>37.737453</td>\n",
              "      <td>POINT (-122.475287886017 37.7374527165306)</td>\n",
              "      <td>NaN</td>\n",
              "      <td>10.0</td>\n",
              "      <td>8.0</td>\n",
              "      <td>41.0</td>\n",
              "      <td>1.0</td>\n",
              "      <td>8.0</td>\n",
              "      <td>4.0</td>\n",
              "      <td>29491.0</td>\n",
              "      <td>40.0</td>\n",
              "      <td>NaN</td>\n",
              "      <td>NaN</td>\n",
              "      <td>NaN</td>\n",
              "      <td>NaN</td>\n",
              "      <td>NaN</td>\n",
              "      <td>NaN</td>\n",
              "      <td>1.0</td>\n",
              "      <td>NaN</td>\n",
              "      <td>NaN</td>\n",
              "      <td>NaN</td>\n",
              "      <td>NaN</td>\n",
              "      <td>NaN</td>\n",
              "    </tr>\n",
              "    <tr>\n",
              "      <th>3</th>\n",
              "      <td>3085157264070</td>\n",
              "      <td>30851572</td>\n",
              "      <td>64070</td>\n",
              "      <td>SUSPICIOUS OCC</td>\n",
              "      <td>SUSPICIOUS OCCURRENCE</td>\n",
              "      <td>Thursday</td>\n",
              "      <td>07/17/2003</td>\n",
              "      <td>17:35</td>\n",
              "      <td>INGLESIDE</td>\n",
              "      <td>PROSECUTED BY OUTSIDE AGENCY</td>\n",
              "      <td>100 Block of 29TH ST</td>\n",
              "      <td>-122.423538</td>\n",
              "      <td>37.743834</td>\n",
              "      <td>POINT (-122.42353834343699 37.743834466729)</td>\n",
              "      <td>84.0</td>\n",
              "      <td>9.0</td>\n",
              "      <td>5.0</td>\n",
              "      <td>22.0</td>\n",
              "      <td>2.0</td>\n",
              "      <td>7.0</td>\n",
              "      <td>5.0</td>\n",
              "      <td>28859.0</td>\n",
              "      <td>22.0</td>\n",
              "      <td>NaN</td>\n",
              "      <td>NaN</td>\n",
              "      <td>NaN</td>\n",
              "      <td>NaN</td>\n",
              "      <td>NaN</td>\n",
              "      <td>NaN</td>\n",
              "      <td>1.0</td>\n",
              "      <td>NaN</td>\n",
              "      <td>NaN</td>\n",
              "      <td>NaN</td>\n",
              "      <td>NaN</td>\n",
              "      <td>84.0</td>\n",
              "    </tr>\n",
              "    <tr>\n",
              "      <th>4</th>\n",
              "      <td>13067727606304</td>\n",
              "      <td>130677276</td>\n",
              "      <td>6304</td>\n",
              "      <td>LARCENY/THEFT</td>\n",
              "      <td>GRAND THEFT FROM A BUILDING</td>\n",
              "      <td>Thursday</td>\n",
              "      <td>08/15/2013</td>\n",
              "      <td>04:42</td>\n",
              "      <td>SOUTHERN</td>\n",
              "      <td>NONE</td>\n",
              "      <td>200 Block of KANSAS ST</td>\n",
              "      <td>-122.403631</td>\n",
              "      <td>37.766658</td>\n",
              "      <td>POINT (-122.40363116222801 37.7666581536244)</td>\n",
              "      <td>33.0</td>\n",
              "      <td>1.0</td>\n",
              "      <td>9.0</td>\n",
              "      <td>4.0</td>\n",
              "      <td>8.0</td>\n",
              "      <td>2.0</td>\n",
              "      <td>8.0</td>\n",
              "      <td>28853.0</td>\n",
              "      <td>20.0</td>\n",
              "      <td>NaN</td>\n",
              "      <td>NaN</td>\n",
              "      <td>NaN</td>\n",
              "      <td>NaN</td>\n",
              "      <td>NaN</td>\n",
              "      <td>NaN</td>\n",
              "      <td>1.0</td>\n",
              "      <td>NaN</td>\n",
              "      <td>NaN</td>\n",
              "      <td>NaN</td>\n",
              "      <td>NaN</td>\n",
              "      <td>33.0</td>\n",
              "    </tr>\n",
              "  </tbody>\n",
              "</table>\n",
              "</div>"
            ],
            "text/plain": [
              "             PdId  IncidntNum  ...  OWED Public Spaces 2 2 Neighborhoods 2\n",
              "0   7121491514040    71214915  ...                     NaN            21.0\n",
              "1   7036663851040    70366638  ...                     NaN            46.0\n",
              "2   4059322571000    40593225  ...                     NaN             NaN\n",
              "3   3085157264070    30851572  ...                     NaN            84.0\n",
              "4  13067727606304   130677276  ...                     NaN            33.0\n",
              "\n",
              "[5 rows x 35 columns]"
            ]
          },
          "metadata": {
            "tags": []
          },
          "execution_count": 26
        }
      ]
    },
    {
      "cell_type": "markdown",
      "metadata": {
        "id": "oS-b70zWbCXN"
      },
      "source": [
        "Criando o data frame df_group para agrupar as incidencias de acordo com a data e contando a quantidade para cada linha"
      ]
    },
    {
      "cell_type": "code",
      "metadata": {
        "colab": {
          "base_uri": "https://localhost:8080/"
        },
        "id": "0VBlxQhzZUZO",
        "outputId": "aa76ae88-072a-462c-a086-a5dd54027e48"
      },
      "source": [
        "df_group = df.groupby('Date').IncidntNum.count()\n",
        "df_group.head(5)"
      ],
      "execution_count": 27,
      "outputs": [
        {
          "output_type": "execute_result",
          "data": {
            "text/plain": [
              "Date\n",
              "01/01/2003    609\n",
              "01/01/2004    445\n",
              "01/01/2005    539\n",
              "01/01/2006    615\n",
              "01/01/2007    530\n",
              "Name: IncidntNum, dtype: int64"
            ]
          },
          "metadata": {
            "tags": []
          },
          "execution_count": 27
        }
      ]
    },
    {
      "cell_type": "markdown",
      "metadata": {
        "id": "XqBxDpLga4EV"
      },
      "source": [
        "Usando o comando de reset_index do pandas para conseguir fazer um novo index das colunas"
      ]
    },
    {
      "cell_type": "code",
      "metadata": {
        "colab": {
          "base_uri": "https://localhost:8080/",
          "height": 197
        },
        "id": "VlYMUhbcZUue",
        "outputId": "3708a995-72e4-4b50-b666-fc96fc01809c"
      },
      "source": [
        "df_group = df.groupby('Date').IncidntNum.count().reset_index()\n",
        "df_group.head(5)"
      ],
      "execution_count": 28,
      "outputs": [
        {
          "output_type": "execute_result",
          "data": {
            "text/html": [
              "<div>\n",
              "<style scoped>\n",
              "    .dataframe tbody tr th:only-of-type {\n",
              "        vertical-align: middle;\n",
              "    }\n",
              "\n",
              "    .dataframe tbody tr th {\n",
              "        vertical-align: top;\n",
              "    }\n",
              "\n",
              "    .dataframe thead th {\n",
              "        text-align: right;\n",
              "    }\n",
              "</style>\n",
              "<table border=\"1\" class=\"dataframe\">\n",
              "  <thead>\n",
              "    <tr style=\"text-align: right;\">\n",
              "      <th></th>\n",
              "      <th>Date</th>\n",
              "      <th>IncidntNum</th>\n",
              "    </tr>\n",
              "  </thead>\n",
              "  <tbody>\n",
              "    <tr>\n",
              "      <th>0</th>\n",
              "      <td>01/01/2003</td>\n",
              "      <td>609</td>\n",
              "    </tr>\n",
              "    <tr>\n",
              "      <th>1</th>\n",
              "      <td>01/01/2004</td>\n",
              "      <td>445</td>\n",
              "    </tr>\n",
              "    <tr>\n",
              "      <th>2</th>\n",
              "      <td>01/01/2005</td>\n",
              "      <td>539</td>\n",
              "    </tr>\n",
              "    <tr>\n",
              "      <th>3</th>\n",
              "      <td>01/01/2006</td>\n",
              "      <td>615</td>\n",
              "    </tr>\n",
              "    <tr>\n",
              "      <th>4</th>\n",
              "      <td>01/01/2007</td>\n",
              "      <td>530</td>\n",
              "    </tr>\n",
              "  </tbody>\n",
              "</table>\n",
              "</div>"
            ],
            "text/plain": [
              "         Date  IncidntNum\n",
              "0  01/01/2003         609\n",
              "1  01/01/2004         445\n",
              "2  01/01/2005         539\n",
              "3  01/01/2006         615\n",
              "4  01/01/2007         530"
            ]
          },
          "metadata": {
            "tags": []
          },
          "execution_count": 28
        }
      ]
    },
    {
      "cell_type": "markdown",
      "metadata": {
        "id": "7wTrmqRIahM2"
      },
      "source": [
        "Ordenando os dados do df_group para o formato de data, para melhor ordenação dos dados"
      ]
    },
    {
      "cell_type": "code",
      "metadata": {
        "colab": {
          "base_uri": "https://localhost:8080/",
          "height": 197
        },
        "id": "PTF-a_8RZlYf",
        "outputId": "7003fbb5-4b8c-4e90-f6f4-d840b5d51f5c"
      },
      "source": [
        "df_group['Date'] = pd.to_datetime(df_group['Date'])\n",
        "df_group = df_group.sort_values('Date')\n",
        "\n",
        "df_group.head(5)"
      ],
      "execution_count": 29,
      "outputs": [
        {
          "output_type": "execute_result",
          "data": {
            "text/html": [
              "<div>\n",
              "<style scoped>\n",
              "    .dataframe tbody tr th:only-of-type {\n",
              "        vertical-align: middle;\n",
              "    }\n",
              "\n",
              "    .dataframe tbody tr th {\n",
              "        vertical-align: top;\n",
              "    }\n",
              "\n",
              "    .dataframe thead th {\n",
              "        text-align: right;\n",
              "    }\n",
              "</style>\n",
              "<table border=\"1\" class=\"dataframe\">\n",
              "  <thead>\n",
              "    <tr style=\"text-align: right;\">\n",
              "      <th></th>\n",
              "      <th>Date</th>\n",
              "      <th>IncidntNum</th>\n",
              "    </tr>\n",
              "  </thead>\n",
              "  <tbody>\n",
              "    <tr>\n",
              "      <th>0</th>\n",
              "      <td>2003-01-01</td>\n",
              "      <td>609</td>\n",
              "    </tr>\n",
              "    <tr>\n",
              "      <th>16</th>\n",
              "      <td>2003-01-02</td>\n",
              "      <td>390</td>\n",
              "    </tr>\n",
              "    <tr>\n",
              "      <th>32</th>\n",
              "      <td>2003-01-03</td>\n",
              "      <td>425</td>\n",
              "    </tr>\n",
              "    <tr>\n",
              "      <th>48</th>\n",
              "      <td>2003-01-04</td>\n",
              "      <td>333</td>\n",
              "    </tr>\n",
              "    <tr>\n",
              "      <th>64</th>\n",
              "      <td>2003-01-05</td>\n",
              "      <td>373</td>\n",
              "    </tr>\n",
              "  </tbody>\n",
              "</table>\n",
              "</div>"
            ],
            "text/plain": [
              "         Date  IncidntNum\n",
              "0  2003-01-01         609\n",
              "16 2003-01-02         390\n",
              "32 2003-01-03         425\n",
              "48 2003-01-04         333\n",
              "64 2003-01-05         373"
            ]
          },
          "metadata": {
            "tags": []
          },
          "execution_count": 29
        }
      ]
    },
    {
      "cell_type": "markdown",
      "metadata": {
        "id": "T0SZGAIQg-2C"
      },
      "source": [
        "Plotando um gráfico para visualizar a quantidade de incidentes em uma distribuição anual"
      ]
    },
    {
      "cell_type": "code",
      "metadata": {
        "colab": {
          "base_uri": "https://localhost:8080/",
          "height": 574
        },
        "id": "sL3BIPZCaK_i",
        "outputId": "7fb81377-5d5c-48dd-c740-ab4ecf9a1362"
      },
      "source": [
        "df_group.plot('Date', 'IncidntNum', figsize=(15, 10), fontsize=15);"
      ],
      "execution_count": 30,
      "outputs": [
        {
          "output_type": "display_data",
          "data": {
            "image/png": "[encoded data removed]",
            "text/plain": [
              "<Figure size 1080x720 with 1 Axes>"
            ]
          },
          "metadata": {
            "tags": [],
            "needs_background": "light"
          }
        }
      ]
    },
    {
      "cell_type": "markdown",
      "metadata": {
        "id": "EXFSvm2_g_0M"
      },
      "source": [
        "Realizando um filtro para melhorar a visualização dos dados"
      ]
    },
    {
      "cell_type": "code",
      "metadata": {
        "colab": {
          "base_uri": "https://localhost:8080/",
          "height": 645
        },
        "id": "5sVpvWsIaLOJ",
        "outputId": "2b58ee54-69fe-4166-edf8-8874ae382cef"
      },
      "source": [
        "df_group.query('Date >= \"2018-01-01\"').plot('Date', 'IncidntNum', figsize=(15, 10), fontsize=15)"
      ],
      "execution_count": 33,
      "outputs": [
        {
          "output_type": "execute_result",
          "data": {
            "text/plain": [
              "<matplotlib.axes._subplots.AxesSubplot at 0x7f53810c9710>"
            ]
          },
          "metadata": {
            "tags": []
          },
          "execution_count": 33
        },
        {
          "output_type": "display_data",
          "data": {
            "image/png": "[encoded data removed]",
            "text/plain": [
              "<Figure size 1080x720 with 1 Axes>"
            ]
          },
          "metadata": {
            "tags": [],
            "needs_background": "light"
          }
        }
      ]
    },
    {
      "cell_type": "code",
      "metadata": {
        "id": "gMKxx3q6aLeO"
      },
      "source": [
        ""
      ],
      "execution_count": null,
      "outputs": []
    },
    {
      "cell_type": "code",
      "metadata": {
        "id": "Rxm7oMQFZlhV"
      },
      "source": [
        ""
      ],
      "execution_count": null,
      "outputs": []
    },
    {
      "cell_type": "code",
      "metadata": {
        "id": "Zs10jQEmZlqG"
      },
      "source": [
        ""
      ],
      "execution_count": null,
      "outputs": []
    },
    {
      "cell_type": "code",
      "metadata": {
        "id": "RDdm865UZlyF"
      },
      "source": [
        ""
      ],
      "execution_count": null,
      "outputs": []
    }
  ]
}