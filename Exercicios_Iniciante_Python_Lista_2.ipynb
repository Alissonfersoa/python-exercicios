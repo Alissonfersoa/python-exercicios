{
  "nbformat": 4,
  "nbformat_minor": 0,
  "metadata": {
    "colab": {
      "name": "Exercicios_Iniciante_Python-Lista 2.ipynb",
      "provenance": [],
      "collapsed_sections": [],
      "authorship_tag": "ABX9TyOUXAfI3m8oM4L9jdgVPNvK",
      "include_colab_link": true
    },
    "kernelspec": {
      "name": "python3",
      "display_name": "Python 3"
    }
  },
  "cells": [
    {
      "cell_type": "markdown",
      "metadata": {
        "id": "view-in-github",
        "colab_type": "text"
      },
      "source": [
        "<a href=\"https://colab.research.google.com/github/Alissonfersoa/python-exercicios/blob/master/Exercicios_Iniciante_Python_Lista_2.ipynb\" target=\"_parent\"><img src=\"https://colab.research.google.com/assets/colab-badge.svg\" alt=\"Open In Colab\"/></a>"
      ]
    },
    {
      "cell_type": "markdown",
      "metadata": {
        "id": "2g3wyATVSAx8",
        "colab_type": "text"
      },
      "source": [
        "***Exercicios para iniciantes em Python***\n",
        "\n",
        "Lista de Estrutura De Decisão\n",
        "\n",
        "Todos os exercicios foram tirados do link abaixo:\n",
        "\n",
        "https://wiki.python.org.br/EstruturaDeDecisao\n",
        "\n",
        "Notebook desenvolvido por Alisson Fernando Soares Batista"
      ]
    },
    {
      "cell_type": "markdown",
      "metadata": {
        "id": "tNdh3FFN-h2q",
        "colab_type": "text"
      },
      "source": [
        "1. Faça um Programa que peça dois números e imprima o maior deles."
      ]
    },
    {
      "cell_type": "code",
      "metadata": {
        "id": "rBSbNti0R7ym",
        "colab_type": "code",
        "colab": {
          "base_uri": "https://localhost:8080/",
          "height": 68
        },
        "outputId": "5af3da61-69e9-4eb6-93fb-bafa1921c217"
      },
      "source": [
        "num1 = float(input('Digite um número: '))\n",
        "num2 = float(input('Digite outro número: '))\n",
        "\n",
        "#forma lista com os valores\n",
        "lista_num = [num1, num2]\n",
        "\n",
        "print('O maior valor é: ',max(lista_num))"
      ],
      "execution_count": 4,
      "outputs": [
        {
          "output_type": "stream",
          "text": [
            "Digite um número: 23.5\n",
            "Digite outro número: 22\n",
            "O maior valor é:  23.5\n"
          ],
          "name": "stdout"
        }
      ]
    },
    {
      "cell_type": "markdown",
      "metadata": {
        "id": "s3YD0AVbDhsu",
        "colab_type": "text"
      },
      "source": [
        "2. Faça um Programa que peça um valor e mostre na tela se o valor é positivo ou negativo."
      ]
    },
    {
      "cell_type": "code",
      "metadata": {
        "id": "d4DxYE-w_TMH",
        "colab_type": "code",
        "colab": {
          "base_uri": "https://localhost:8080/",
          "height": 51
        },
        "outputId": "3713c166-cd10-48ba-e29c-8915b2f73735"
      },
      "source": [
        "num = float(input('Digite um número: '))\n",
        "\n",
        "if num>=0:\n",
        "  print('Número digitado é positivo!')\n",
        "else:\n",
        "  print('Número digitado é negativo!')"
      ],
      "execution_count": 6,
      "outputs": [
        {
          "output_type": "stream",
          "text": [
            "Digite um número: -4\n",
            "Número digitado é negativo!\n"
          ],
          "name": "stdout"
        }
      ]
    },
    {
      "cell_type": "markdown",
      "metadata": {
        "id": "Qb8c2aSxD__N",
        "colab_type": "text"
      },
      "source": [
        "3. Faça um Programa que verifique se uma letra digitada é \"F\" ou \"M\". Conforme a letra escrever: F - Feminino, M - Masculino, Sexo Inválido."
      ]
    },
    {
      "cell_type": "code",
      "metadata": {
        "id": "2ZTyoLJWEIn2",
        "colab_type": "code",
        "colab": {
          "base_uri": "https://localhost:8080/",
          "height": 51
        },
        "outputId": "840a514c-cdbd-4285-dc65-130e6116e6a2"
      },
      "source": [
        "letra = str(input('Digite uma letra: '))\n",
        "\n",
        "if letra == 'F':\n",
        "  print('F - Feminino')\n",
        "elif letra =='M':\n",
        "  print('M - Masculino')\n",
        "else :\n",
        "  print('Sexo Inválido!')\n"
      ],
      "execution_count": 11,
      "outputs": [
        {
          "output_type": "stream",
          "text": [
            "Digite uma letra: S\n",
            "Sexo Inválido!\n"
          ],
          "name": "stdout"
        }
      ]
    },
    {
      "cell_type": "markdown",
      "metadata": {
        "id": "vX3gtlNgHaaO",
        "colab_type": "text"
      },
      "source": [
        "4. Faça um Programa que verifique se uma letra digitada é vogal ou consoante."
      ]
    },
    {
      "cell_type": "code",
      "metadata": {
        "id": "vu2Ki3q7Gp1W",
        "colab_type": "code",
        "colab": {
          "base_uri": "https://localhost:8080/",
          "height": 51
        },
        "outputId": "feb52a50-fafb-4653-9b12-6ad9088baa56"
      },
      "source": [
        "letra = input('Digite um caractere: ')\n",
        "\n",
        "if letra == 'a' or letra == 'e' or letra == 'i' or letra == 'o' or letra == 'u':\n",
        "  print('O caractere ', letra, ' é uma vogal!')\n",
        "else:\n",
        "  print('O caractere ', letra, ' é uma consoante!')"
      ],
      "execution_count": 21,
      "outputs": [
        {
          "output_type": "stream",
          "text": [
            "Digite um caractere: D\n",
            "O caractere  D  é uma consoante!\n"
          ],
          "name": "stdout"
        }
      ]
    },
    {
      "cell_type": "markdown",
      "metadata": {
        "id": "jvf8fif_VHlA",
        "colab_type": "text"
      },
      "source": [
        "5. Faça um programa para a leitura de duas notas parciais de um aluno. O programa deve calcular a média alcançada por aluno e apresentar:\n",
        "\n",
        "*   A mensagem \"Aprovado\", se a média alcançada for maior ou igual a sete;\n",
        "*   A mensagem \"Reprovado\", se a média for menor do que sete;\n",
        "*   A mensagem \"Aprovado com Distinção\", se a média for igual a dez."
      ]
    },
    {
      "cell_type": "code",
      "metadata": {
        "id": "8UXw62gQTOTh",
        "colab_type": "code",
        "colab": {
          "base_uri": "https://localhost:8080/",
          "height": 68
        },
        "outputId": "94112c14-3984-4958-e6cc-b25c224e2c4a"
      },
      "source": [
        "#usando função round para arredondar valores\n",
        "nota1 = float(input('Digite a primeira nota: '))\n",
        "nota2 = float(input('Digite a segunda nota: '))\n",
        "\n",
        "notas = [nota1, nota2]\n",
        "\n",
        "media = sum(notas)/len(notas)\n",
        "\n",
        "if media >= 7:\n",
        "  print('Aluno Aprovado! média: ', round(media,1))\n",
        "elif media == 10:\n",
        "  print('Aluno Aprovado com Distinção, média :', round(media,1))\n",
        "else:\n",
        "  print('Aluno reprovado! média: ', round(media,1))"
      ],
      "execution_count": 30,
      "outputs": [
        {
          "output_type": "stream",
          "text": [
            "Digite a primeira nota: 10\n",
            "Digite a segunda nota: 8.9\n",
            "Aluno Aprovado! média:  9.4\n"
          ],
          "name": "stdout"
        }
      ]
    },
    {
      "cell_type": "code",
      "metadata": {
        "id": "kx_FogFbY9fG",
        "colab_type": "code",
        "colab": {}
      },
      "source": [
        ""
      ],
      "execution_count": null,
      "outputs": []
    }
  ]
}