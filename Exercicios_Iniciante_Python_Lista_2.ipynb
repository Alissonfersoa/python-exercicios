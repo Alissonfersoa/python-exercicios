{
  "nbformat": 4,
  "nbformat_minor": 0,
  "metadata": {
    "colab": {
      "name": "Exercicios_Iniciante_Python-Lista 2.ipynb",
      "provenance": [],
      "collapsed_sections": [],
      "authorship_tag": "ABX9TyP5nuI+yKkMBQyfiIwIITpY",
      "include_colab_link": true
    },
    "kernelspec": {
      "name": "python3",
      "display_name": "Python 3"
    }
  },
  "cells": [
    {
      "cell_type": "markdown",
      "metadata": {
        "id": "view-in-github",
        "colab_type": "text"
      },
      "source": [
        "<a href=\"https://colab.research.google.com/github/Alissonfersoa/python-exercicios/blob/master/Exercicios_Iniciante_Python_Lista_2.ipynb\" target=\"_parent\"><img src=\"https://colab.research.google.com/assets/colab-badge.svg\" alt=\"Open In Colab\"/></a>"
      ]
    },
    {
      "cell_type": "markdown",
      "metadata": {
        "id": "2g3wyATVSAx8",
        "colab_type": "text"
      },
      "source": [
        "***Exercicios para iniciantes em Python***\n",
        "\n",
        "Lista de Estrutura De Decisão\n",
        "\n",
        "Todos os exercicios foram tirados do link abaixo:\n",
        "\n",
        "https://wiki.python.org.br/EstruturaSequencial\n",
        "\n",
        "Notebook desenvolvido por Alisson Fernando Soares Batista"
      ]
    },
    {
      "cell_type": "code",
      "metadata": {
        "id": "rBSbNti0R7ym",
        "colab_type": "code",
        "colab": {}
      },
      "source": [
        ""
      ],
      "execution_count": null,
      "outputs": []
    }
  ]
}