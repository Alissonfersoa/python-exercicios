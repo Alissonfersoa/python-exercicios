{
  "nbformat": 4,
  "nbformat_minor": 0,
  "metadata": {
    "colab": {
      "name": "Exercicios_Iniciante_Python-Lista 2.ipynb",
      "provenance": [],
      "collapsed_sections": [],
      "authorship_tag": "ABX9TyMJ6MryTTx+4BOLzLIvppYx",
      "include_colab_link": true
    },
    "kernelspec": {
      "name": "python3",
      "display_name": "Python 3"
    }
  },
  "cells": [
    {
      "cell_type": "markdown",
      "metadata": {
        "id": "view-in-github",
        "colab_type": "text"
      },
      "source": [
        "<a href=\"https://colab.research.google.com/github/Alissonfersoa/python-exercicios/blob/master/Exercicios_Iniciante_Python_Lista_2.ipynb\" target=\"_parent\"><img src=\"https://colab.research.google.com/assets/colab-badge.svg\" alt=\"Open In Colab\"/></a>"
      ]
    },
    {
      "cell_type": "markdown",
      "metadata": {
        "id": "2g3wyATVSAx8"
      },
      "source": [
        "***Exercicios para iniciantes em Python***\n",
        "\n",
        "Lista de Estrutura De Decisão\n",
        "\n",
        "Todos os exercicios foram tirados do link abaixo:\n",
        "\n",
        "https://wiki.python.org.br/EstruturaDeDecisao\n",
        "\n",
        "Notebook desenvolvido por Alisson Fernando Soares Batista"
      ]
    },
    {
      "cell_type": "markdown",
      "metadata": {
        "id": "tNdh3FFN-h2q"
      },
      "source": [
        "1. Faça um Programa que peça dois números e imprima o maior deles."
      ]
    },
    {
      "cell_type": "code",
      "metadata": {
        "id": "rBSbNti0R7ym",
        "colab": {
          "base_uri": "https://localhost:8080/",
          "height": 68
        },
        "outputId": "5af3da61-69e9-4eb6-93fb-bafa1921c217"
      },
      "source": [
        "num1 = float(input('Digite um número: '))\n",
        "num2 = float(input('Digite outro número: '))\n",
        "\n",
        "#forma lista com os valores\n",
        "lista_num = [num1, num2]\n",
        "\n",
        "print('O maior valor é: ',max(lista_num))"
      ],
      "execution_count": null,
      "outputs": [
        {
          "output_type": "stream",
          "text": [
            "Digite um número: 23.5\n",
            "Digite outro número: 22\n",
            "O maior valor é:  23.5\n"
          ],
          "name": "stdout"
        }
      ]
    },
    {
      "cell_type": "markdown",
      "metadata": {
        "id": "s3YD0AVbDhsu"
      },
      "source": [
        "2. Faça um Programa que peça um valor e mostre na tela se o valor é positivo ou negativo."
      ]
    },
    {
      "cell_type": "code",
      "metadata": {
        "id": "d4DxYE-w_TMH",
        "colab": {
          "base_uri": "https://localhost:8080/",
          "height": 51
        },
        "outputId": "3713c166-cd10-48ba-e29c-8915b2f73735"
      },
      "source": [
        "num = float(input('Digite um número: '))\n",
        "\n",
        "if num>=0:\n",
        "  print('Número digitado é positivo!')\n",
        "else:\n",
        "  print('Número digitado é negativo!')"
      ],
      "execution_count": null,
      "outputs": [
        {
          "output_type": "stream",
          "text": [
            "Digite um número: -4\n",
            "Número digitado é negativo!\n"
          ],
          "name": "stdout"
        }
      ]
    },
    {
      "cell_type": "markdown",
      "metadata": {
        "id": "Qb8c2aSxD__N"
      },
      "source": [
        "3. Faça um Programa que verifique se uma letra digitada é \"F\" ou \"M\". Conforme a letra escrever: F - Feminino, M - Masculino, Sexo Inválido."
      ]
    },
    {
      "cell_type": "code",
      "metadata": {
        "id": "2ZTyoLJWEIn2",
        "colab": {
          "base_uri": "https://localhost:8080/",
          "height": 51
        },
        "outputId": "840a514c-cdbd-4285-dc65-130e6116e6a2"
      },
      "source": [
        "letra = str(input('Digite uma letra: '))\n",
        "\n",
        "if letra == 'F':\n",
        "  print('F - Feminino')\n",
        "elif letra =='M':\n",
        "  print('M - Masculino')\n",
        "else :\n",
        "  print('Sexo Inválido!')\n"
      ],
      "execution_count": null,
      "outputs": [
        {
          "output_type": "stream",
          "text": [
            "Digite uma letra: S\n",
            "Sexo Inválido!\n"
          ],
          "name": "stdout"
        }
      ]
    },
    {
      "cell_type": "markdown",
      "metadata": {
        "id": "vX3gtlNgHaaO"
      },
      "source": [
        "4. Faça um Programa que verifique se uma letra digitada é vogal ou consoante."
      ]
    },
    {
      "cell_type": "code",
      "metadata": {
        "id": "vu2Ki3q7Gp1W",
        "colab": {
          "base_uri": "https://localhost:8080/",
          "height": 51
        },
        "outputId": "feb52a50-fafb-4653-9b12-6ad9088baa56"
      },
      "source": [
        "letra = input('Digite um caractere: ')\n",
        "\n",
        "if letra == 'a' or letra == 'e' or letra == 'i' or letra == 'o' or letra == 'u':\n",
        "  print('O caractere ', letra, ' é uma vogal!')\n",
        "else:\n",
        "  print('O caractere ', letra, ' é uma consoante!')"
      ],
      "execution_count": null,
      "outputs": [
        {
          "output_type": "stream",
          "text": [
            "Digite um caractere: D\n",
            "O caractere  D  é uma consoante!\n"
          ],
          "name": "stdout"
        }
      ]
    },
    {
      "cell_type": "markdown",
      "metadata": {
        "id": "jvf8fif_VHlA"
      },
      "source": [
        "5. Faça um programa para a leitura de duas notas parciais de um aluno. O programa deve calcular a média alcançada por aluno e apresentar:\n",
        "\n",
        "*   A mensagem \"Aprovado\", se a média alcançada for maior ou igual a sete;\n",
        "*   A mensagem \"Reprovado\", se a média for menor do que sete;\n",
        "*   A mensagem \"Aprovado com Distinção\", se a média for igual a dez."
      ]
    },
    {
      "cell_type": "code",
      "metadata": {
        "id": "8UXw62gQTOTh",
        "colab": {
          "base_uri": "https://localhost:8080/",
          "height": 68
        },
        "outputId": "94112c14-3984-4958-e6cc-b25c224e2c4a"
      },
      "source": [
        "#usando função round para arredondar valores\n",
        "nota1 = float(input('Digite a primeira nota: '))\n",
        "nota2 = float(input('Digite a segunda nota: '))\n",
        "\n",
        "notas = [nota1, nota2]\n",
        "\n",
        "media = sum(notas)/len(notas)\n",
        "\n",
        "if media >= 7:\n",
        "  print('Aluno Aprovado! média: ', round(media,1))\n",
        "elif media == 10:\n",
        "  print('Aluno Aprovado com Distinção, média :', round(media,1))\n",
        "else:\n",
        "  print('Aluno reprovado! média: ', round(media,1))"
      ],
      "execution_count": null,
      "outputs": [
        {
          "output_type": "stream",
          "text": [
            "Digite a primeira nota: 10\n",
            "Digite a segunda nota: 8.9\n",
            "Aluno Aprovado! média:  9.4\n"
          ],
          "name": "stdout"
        }
      ]
    },
    {
      "cell_type": "markdown",
      "metadata": {
        "id": "J15VAbWNFWL8"
      },
      "source": [
        "6. Faça um Programa que leia três números e mostre o maior deles."
      ]
    },
    {
      "cell_type": "code",
      "metadata": {
        "id": "kx_FogFbY9fG",
        "colab": {
          "base_uri": "https://localhost:8080/",
          "height": 85
        },
        "outputId": "1f38c661-0104-4ab2-9f20-f234dee016eb"
      },
      "source": [
        "num1 = float(input('Digite um número: '))\n",
        "num2 = float(input('Digite o segundo número: '))\n",
        "num3 = float(input('Digite o terceiro número: '))\n",
        "\n",
        "#usando comando lista para armazenar os valores em matriz\n",
        "lista = [num1, num2, num3]\n",
        "\n",
        "print('O maior número é: ',max(lista))\n"
      ],
      "execution_count": null,
      "outputs": [
        {
          "output_type": "stream",
          "text": [
            "Digite um número: 4\n",
            "Digite o segundo número: 5\n",
            "Digite o terceiro número: 5.5\n",
            "O maior número é:  5.5\n"
          ],
          "name": "stdout"
        }
      ]
    },
    {
      "cell_type": "markdown",
      "metadata": {
        "id": "pMSAWfr0FZfV"
      },
      "source": [
        "7. Faça um Programa que leia três números e mostre o maior e o menor deles."
      ]
    },
    {
      "cell_type": "code",
      "metadata": {
        "id": "iO9wALOwGAHk",
        "colab": {
          "base_uri": "https://localhost:8080/",
          "height": 102
        },
        "outputId": "09b5fa3d-7a49-475c-9cf4-60a473d1a914"
      },
      "source": [
        "num1 = float(input('Digite o primeiro número: '))\n",
        "num2 = float(input('Digite o segundo número: '))\n",
        "num3 = float(input('Digite o terceiro número: '))\n",
        "\n",
        "lista = [num1, num2, num3]\n",
        "\n",
        "print('O maior número é: ', max(lista))\n",
        "print('O menor número é: ', min(lista))"
      ],
      "execution_count": null,
      "outputs": [
        {
          "output_type": "stream",
          "text": [
            "Digite o primeiro número: 3\n",
            "Digite o segundo número: 4\n",
            "Digite o terceiro número: 7\n",
            "O maior número é:  7.0\n",
            "O menor número é:  3.0\n"
          ],
          "name": "stdout"
        }
      ]
    },
    {
      "cell_type": "markdown",
      "metadata": {
        "id": "qQ7jWJ97Fca-"
      },
      "source": [
        "8. Faça um programa que pergunte o preço de três produtos e informe qual produto você deve comprar, sabendo que a decisão é sempre pelo mais barato."
      ]
    },
    {
      "cell_type": "code",
      "metadata": {
        "id": "k_Y-D6jMGArk",
        "colab": {
          "base_uri": "https://localhost:8080/",
          "height": 85
        },
        "outputId": "2c52ec70-294a-4066-c637-99d5f42f49a1"
      },
      "source": [
        "p1 = float(input('Digite o 1° preço: '))\n",
        "p2 = float(input('Digite o 2° preço: '))\n",
        "p3 = float(input('Digite o 3° preço: '))\n",
        "\n",
        "\n",
        "def menor():\n",
        "\n",
        "  if p1 < p2 and p3 and p1:\n",
        "    print('O produto 1 é o mais barato!!')\n",
        "  elif p2 < p1 and p3:\n",
        "    print('O produto 2 é o mais barato!!')\n",
        "  elif p3 < p1 and p2:\n",
        "    print('O produto 3 é o mais barato!!')\n",
        "  elif p1 == p2 and p1 and p2 < p3:\n",
        "    print('O produto 1 e 2 são os mais baratos!!')\n",
        "  elif p1 == p3 and p1 and p3 < p2:\n",
        "    print('O produto 1 e 3 são os mais baratos!!')\n",
        "  elif p2 == p3 and p2 and p3 < p1:\n",
        "    print('O produto 1 e 2 são os mais baratos!!')\n",
        "  else:\n",
        "    print('Todos os preços são iguais')\n",
        "menor()"
      ],
      "execution_count": null,
      "outputs": [
        {
          "output_type": "stream",
          "text": [
            "Digite o 1° preço: 12\n",
            "Digite o 2° preço: 11\n",
            "Digite o 3° preço: 23\n",
            "O produto 2 é o mais barato!!\n"
          ],
          "name": "stdout"
        }
      ]
    },
    {
      "cell_type": "markdown",
      "metadata": {
        "id": "EI2Lo2eGFdna"
      },
      "source": [
        "9. Faça um Programa que leia três números e mostre-os em ordem decrescente."
      ]
    },
    {
      "cell_type": "code",
      "metadata": {
        "id": "DGQS8aBkGBQ_",
        "colab": {
          "base_uri": "https://localhost:8080/",
          "height": 85
        },
        "outputId": "7e86343c-8967-40c0-a1c1-f7cfc219eb62"
      },
      "source": [
        "a = float(input('Digite o primeiro número: '))\n",
        "b = float(input('Digite o segundo número: '))\n",
        "c = float(input('Digite o terceiro número: '))\n",
        "\n",
        "\n",
        "if a < c:\n",
        "    a, c = c, a\n",
        "if a < b:\n",
        "    a, b = b, a\n",
        "if b < c:\n",
        "    b, c = c, b\n",
        "\n",
        "print('A ordem decrescente é: ',a,' | ',b,' | ',c)"
      ],
      "execution_count": null,
      "outputs": [
        {
          "output_type": "stream",
          "text": [
            "Digite o primeiro número: 23\n",
            "Digite o segundo número: 1\n",
            "Digite o terceiro número: 0.66\n",
            "A ordem decrescente é:  23.0  |  1.0  |  0.66\n"
          ],
          "name": "stdout"
        }
      ]
    },
    {
      "cell_type": "markdown",
      "metadata": {
        "id": "9LoRrzi-Fey6"
      },
      "source": [
        "10. Faça um Programa que pergunte em que turno você estuda. Peça para digitar M-matutino ou V-Vespertino ou N- Noturno. Imprima a mensagem \"Bom Dia!\", \"Boa Tarde!\" ou \"Boa Noite!\" ou \"Valor Inválido!\", conforme o caso.\n"
      ]
    },
    {
      "cell_type": "code",
      "metadata": {
        "id": "yYZDFxtzGCAK",
        "colab": {
          "base_uri": "https://localhost:8080/",
          "height": 51
        },
        "outputId": "293ac325-645f-47cc-ab42-da5037bb30cf"
      },
      "source": [
        "turno = (input('Digite qual o turno que estuda (M - Matutino / V - Vespertino / N - Noturno): '))\n",
        "\n",
        "def mensagem():\n",
        "  if turno == 'm':\n",
        "    print('Bom Dia!!')\n",
        "  elif turno == 'v':\n",
        "    print('Boa Tarde!!')\n",
        "  elif turno == 'n':\n",
        "    print('Boa Noite!!')\n",
        "  else:\n",
        "    print('Valor Inválido!!')\n",
        "mensagem()"
      ],
      "execution_count": null,
      "outputs": [
        {
          "output_type": "stream",
          "text": [
            "Digite qual o turno que estuda (M - Matutino / V - Vespertino / N - Noturno): m\n",
            "Bom Dia!!\n"
          ],
          "name": "stdout"
        }
      ]
    },
    {
      "cell_type": "markdown",
      "metadata": {
        "id": "RiS6gdfDGMc7"
      },
      "source": [
        "11. As Organizações Tabajara resolveram dar um aumento de salário aos seus colaboradores e lhe contraram para desenvolver o programa que calculará os reajustes.\n",
        "Faça um programa que recebe o salário de um colaborador e o reajuste segundo o seguinte critério, baseado no salário atual:\n",
        "salários até R$ 280,00 (incluindo) : \n",
        "\n",
        "* aumento de 20%\n",
        "*   salários entre R 280,00 e R 700,00 : aumento de 15%\n",
        "* salários entre R 700,00 e R 1500,00 : aumento de 10%\n",
        "* salários de R 1500,00 em diante : aumento de 5% Após o aumento ser realizado, informe na tela:\n",
        "* o salário antes do reajuste;\n",
        "* o percentual de aumento aplicado;\n",
        "* o valor do aumento;\n",
        "* o novo salário, após o aumento.\n",
        "\n",
        "\n"
      ]
    },
    {
      "cell_type": "code",
      "metadata": {
        "id": "fX_kusvVGnZt",
        "colab": {
          "base_uri": "https://localhost:8080/",
          "height": 119
        },
        "outputId": "14256727-6b0c-4d97-b468-fd984c4c1c6a"
      },
      "source": [
        "salario_atual = float(input('Digite o salário atual: '))\n",
        "\n",
        "#condição para o valor do salario atual\n",
        "if salario_atual <= 280.00:\n",
        "  porcentagem = salario_atual * 0.20\n",
        "  resultado = salario_atual + porcentagem\n",
        "  print('====== Extrato reajuste ======')\n",
        "  print('---- Seu salário antes do reajuste: R$', salario_atual)\n",
        "  print('---- Percentual de aumento: ', 20, '%')\n",
        "  print('---- O valor do aumento é: R$', porcentagem)\n",
        "  print('---- Com o reajuste, seu salário é: R$',resultado)\n",
        "\n",
        "elif salario_atual > 280.00 and salario_atual <= 700.00:\n",
        "  porcentagem = salario_atual * 0.15\n",
        "  resultado = salario_atual + porcentagem\n",
        "  print('====== Extrato reajuste ======')\n",
        "  print('---- Seu salário antes do reajuste: R$', salario_atual)\n",
        "  print('---- Percentual de aumento: ', 15, '%')\n",
        "  print('---- O valor do aumento é: R$', porcentagem)\n",
        "  print('---- Com o reajuste, seu salário é: R$',resultado)\n",
        "\n",
        "elif salario_atual > 700.00 and salario_atual <= 1500.00:\n",
        "  porcentagem = salario_atual * 0.10\n",
        "  resultado = salario_atual + porcentagem\n",
        "  print('====== Extrato reajuste ======')\n",
        "  print('---- Seu salário antes do reajuste: R$', salario_atual)\n",
        "  print('---- Percentual de aumento: ', 10, '%')\n",
        "  print('---- O valor do aumento é: R$', porcentagem)\n",
        "  print('---- Com o reajuste, seu salário é: R$',resultado)\n",
        "\n",
        "elif salario_atual > 1500.00:\n",
        "  porcentagem = salario_atual * 0.05\n",
        "  resultado = salario_atual + porcentagem\n",
        "  print('====== Extrato reajuste ======')\n",
        "  print('---- Seu salário antes do reajuste: R$', salario_atual)\n",
        "  print('---- Percentual de aumento: ', 5, '%')\n",
        "  print('---- O valor do aumento é: R$', porcentagem)\n",
        "  print('---- Com o reajuste, seu salário é: R$',resultado)"
      ],
      "execution_count": null,
      "outputs": [
        {
          "output_type": "stream",
          "text": [
            "Digite o salário atual: 1505\n",
            "====== Extrato reajuste ======\n",
            "---- Seu salário antes do reajuste: R$ 1505.0\n",
            "---- Percentual de aumento:  5 %\n",
            "---- O valor do aumento é: R$ 75.25\n",
            "---- Com o reajuste, seu salário é: R$ 1580.25\n"
          ],
          "name": "stdout"
        }
      ]
    },
    {
      "cell_type": "markdown",
      "metadata": {
        "id": "0Cqox0D8GoQ4"
      },
      "source": [
        "12. Faça um programa para o cálculo de uma folha de pagamento, sabendo que os descontos são do Imposto de Renda, que depende do salário bruto (conforme tabela abaixo) e 3% para o Sindicato e que o FGTS corresponde a 11% do Salário Bruto, mas não é descontado (é a empresa que deposita). O Salário Líquido corresponde ao Salário Bruto menos os descontos. O programa deverá pedir ao usuário o valor da sua hora e a quantidade de horas trabalhadas no mês.\n",
        "Desconto do IR:\n",
        "* Salário Bruto até 900 (inclusive) - isento\n",
        "* Salário Bruto até 1500 (inclusive) - desconto de 5%\n",
        "* Salário Bruto até 2500 (inclusive) - desconto de 10%\n",
        "* Salário Bruto acima de 2500 - desconto de 20% Imprima na tela as informações, dispostas conforme o exemplo abaixo. No exemplo o valor da hora é 5 e a quantidade de hora é 220.\n",
        "\n",
        "            Salário Bruto: (5 * 220)        : R$ 1100,00\n",
        "            (-) IR (5%)                     : R$   55,00  \n",
        "            (-) INSS ( 10%)                 : R$  110,00\n",
        "            FGTS (11%)                      : R$  121,00\n",
        "            Total de descontos              : R$  165,00\n",
        "            Salário Liquido                 : R$  935,00"
      ]
    },
    {
      "cell_type": "code",
      "metadata": {
        "id": "xW8KebYyGpin"
      },
      "source": [
        "# ajustar código\n",
        "\n",
        "#define variaveis\n",
        "#considerando as horas como 220 e o salario hora de 5\n",
        "salario_hora = float(input('Digite o valor da hora de trabalho: '))\n",
        "horas = float(input('Digite a quantidade de hora trabalhada no mês: '))\n",
        "\n",
        "salario_bruto = (salario_hora*horas)\n",
        "\n",
        "\n",
        "def descontos(salario_bruto):\n",
        "    descontoSindicato = (salario_bruto/100)*3\n",
        "    descontoFGTS = (salario_bruto/100)*11\n",
        "    descontoINSS = (salario_bruto/100)*10\n",
        "    descontoIR = 0\n",
        "    if salario_bruto <= 900:\n",
        "        salario_liquido = salario_bruto - descontoSindicato - descontoINSS - descontoFGTS\n",
        "        \n",
        "    elif salario_bruto <= 1500:\n",
        "        descontoIR = (salario_bruto/100)*5\n",
        "        salario_liquido = salario_bruto - descontoSindicato - descontoIR - descontoINSS - descontoFGTS\n",
        "        \n",
        "    elif salario_bruto <= 2500:\n",
        "        descontoIR = (salario_bruto/100)*10\n",
        "        salario_liquido = salario_bruto - descontoSindicato - descontoIR - descontoINSS - descontoFGTS\n",
        "        \n",
        "    else:\n",
        "        descontoIR = (salario_bruto/100)*20\n",
        "        salario_liquido = salario_bruto - descontoSindicato - descontoIR - descontoINSS - descontoFGTS\n",
        "\n",
        "    totaldesconto = (descontoSindicato + descontoIR + descontoINSS + descontoFGTS)\n",
        "    imprime_desconto(salario_bruto, descontoIR, descontoSindicato, descontoINSS, descontoFGTS, totaldesconto, salario_liquido)\n",
        "\n",
        "def imprime_desconto(salario_bruto, descontoIR, descontoSindicato, descontoINSS, descontoFGTS, totaldesconto, salario_liquido):\n",
        "    print('''\n",
        "    Salário Bruto: (5*220)          :  %.2f\n",
        "    (-) IR (5%)                     :  %.2f\n",
        "    (-) Sindicato                   :  %.2f\n",
        "    (-) INSS ( 10%)                 :  %.2f\n",
        "    FGTS (11%)                      :  %.2f\n",
        "    Total de descontos              :  %.2f\n",
        "    Salário Liquido                 :  %.2f\n",
        "\n",
        "    '''%(salario_bruto, descontoIR, descontoSindicato, descontoINSS, descontoFGTS, totaldesconto, salario_liquido))\n",
        "\n",
        "descontos(salario_bruto)"
      ],
      "execution_count": null,
      "outputs": []
    },
    {
      "cell_type": "markdown",
      "metadata": {
        "id": "PCPSYe7hGqTd"
      },
      "source": [
        "13. Faça um Programa que leia um número e exiba o dia correspondente da semana. (1-Domingo, 2- Segunda, etc.), se digitar outro valor deve aparecer valor inválido."
      ]
    },
    {
      "cell_type": "code",
      "metadata": {
        "id": "QxSUiF1nGrO8",
        "colab": {
          "base_uri": "https://localhost:8080/",
          "height": 68
        },
        "outputId": "7c9b2870-dc06-43cb-bebf-041c500e072f"
      },
      "source": [
        "#define variaveis\n",
        "print('::: Define dia correspondente :::')\n",
        "numsemana = int(input('Digite um número: '))\n",
        "\n",
        "if numsemana == 1:\n",
        "  print('1 - Domingo')\n",
        "elif numsemana ==2:\n",
        "  print('2 - Segunda')\n",
        "elif numsemana ==3:\n",
        "  print('3 - Terça')\n",
        "elif numsemana ==4:\n",
        "  print('4 - Quarta')\n",
        "elif numsemana ==5:\n",
        "  print('5 - Quinta')\n",
        "elif numsemana ==6:\n",
        "  print('6 - Sexta')\n",
        "elif numsemana ==7:\n",
        "  print('7 - Sabádo')\n",
        "else:\n",
        "  print('Válor Inválido!!')"
      ],
      "execution_count": null,
      "outputs": [
        {
          "output_type": "stream",
          "text": [
            "::: Define dia correspondente :::\n",
            "Digite um número: 1\n",
            "1 - Domingo\n"
          ],
          "name": "stdout"
        }
      ]
    },
    {
      "cell_type": "markdown",
      "metadata": {
        "id": "9qPAtuTfG-fq"
      },
      "source": [
        "14. Faça um programa que lê as duas notas parciais obtidas por um aluno numa disciplina ao longo de um semestre, e calcule a sua média. A atribuição de conceitos obedece à tabela abaixo:\n",
        "  Média de Aproveitamento  Conceito\n",
        "  Entre 9.0 e 10.0        A\n",
        "  Entre 7.5 e 9.0         B\n",
        "  Entre 6.0 e 7.5         C\n",
        "  Entre 4.0 e 6.0         D\n",
        "  Entre 4.0 e zero        E\n",
        "O algoritmo deve mostrar na tela as notas, a média, o conceito correspondente e a mensagem “APROVADO” se o conceito for A, B ou C ou “REPROVADO” se o conceito for D ou E."
      ]
    },
    {
      "cell_type": "code",
      "metadata": {
        "id": "UC-fyqjLG_ne",
        "colab": {
          "base_uri": "https://localhost:8080/",
          "height": 119
        },
        "outputId": "fc3ee413-dd7f-46d9-b2be-f3db5c981efd"
      },
      "source": [
        "#define variaveis\n",
        "\n",
        "nota1 = float(input('Digite a primeira nota: '))\n",
        "nota2 = float(input('Digite a segunda nota: '))\n",
        "\n",
        "notas = [nota1, nota2]\n",
        "\n",
        "#calculo da media usando o len para contar os itens\n",
        "media = sum(notas)/len(notas)\n",
        "\n",
        "if media > 9.0:\n",
        "  aproveitamento = 'A'\n",
        "elif media >7.5 and 9.0:\n",
        "  aproveitamento = 'B'\n",
        "elif media >6.0 and 7.5:\n",
        "  aproveitamento = 'C'\n",
        "elif media >4.0 and 6.0:\n",
        "  aproveitamento = 'D'\n",
        "else:\n",
        "  aproveitamento = 'E'\n",
        "\n",
        "if aproveitamento == 'A':\n",
        "  status = 'Aprovado'\n",
        "elif aproveitamento =='B':\n",
        "  status = 'Aprovado'\n",
        "elif aproveitamento == 'C':\n",
        "  status = 'Aprovado'\n",
        "else:\n",
        "  status = 'Reprovado'\n",
        "\n",
        "print('As notas do aluno: ', notas)\n",
        "print('Média: ', media)\n",
        "print('Aproveitamento: ', aproveitamento)\n",
        "print('Status: ', status)"
      ],
      "execution_count": null,
      "outputs": [
        {
          "output_type": "stream",
          "text": [
            "Digite a primeira nota: 6.7\n",
            "Digite a segunda nota: 7.8\n",
            "As notas do aluno:  [6.7, 7.8]\n",
            "Média:  7.25\n",
            "Aproveitamento:  C\n",
            "Status:  Aprovado\n"
          ],
          "name": "stdout"
        }
      ]
    },
    {
      "cell_type": "markdown",
      "metadata": {
        "id": "n0--9otJG_-4"
      },
      "source": [
        "15. Faça um Programa que peça os 3 lados de um triângulo. O programa deverá informar se os valores podem ser um triângulo. Indique, caso os lados formem um triângulo, se o mesmo é: equilátero, isósceles ou escaleno.\n",
        "Dicas:\n",
        "* Três lados formam um triângulo quando a soma de quaisquer dois lados for maior que o terceiro;\n",
        "* Triângulo Equilátero: três lados iguais;\n",
        "* Triângulo Isósceles: quaisquer dois lados iguais;\n",
        "* Triângulo Escaleno: três lados diferentes;"
      ]
    },
    {
      "cell_type": "code",
      "metadata": {
        "id": "vqP_C2lPHBCR",
        "colab": {
          "base_uri": "https://localhost:8080/",
          "height": 85
        },
        "outputId": "05690971-ec56-4f83-89b8-1d74079b5ebd"
      },
      "source": [
        "#define variaveis\n",
        "lado1 = float(input('Digite o valor para 1° lado: '))\n",
        "lado2 = float(input('Digite o valor para 2° lado: '))\n",
        "lado3 = float(input('Digite o valor para 3° lado: '))\n",
        "\n",
        "#testando se é triângulo\n",
        "if (lado1 + lado2 < lado3) or (lado1 + lado3 < lado2) or (lado2 + lado3 < lado1):\n",
        "  print('Não é um triângulo!!')\n",
        "elif (lado1 == lado2) or (lado1 == lado3):\n",
        "  print('Triângulo Equilátero!!')\n",
        "elif (lado1 == lado2) or (lado1 == lado3) or (lado2==lado3):\n",
        "  print('Triângulo Isósceles!!')\n",
        "else:\n",
        "  print('Triângulo Escaleno!!')\n"
      ],
      "execution_count": null,
      "outputs": [
        {
          "output_type": "stream",
          "text": [
            "Digite o valor para 1° lado: 2\n",
            "Digite o valor para 2° lado: 2.5\n",
            "Digite o valor para 3° lado: 2\n",
            "Triângulo Equilátero!!\n"
          ],
          "name": "stdout"
        }
      ]
    },
    {
      "cell_type": "markdown",
      "metadata": {
        "id": "WHmMHWiMHDAm"
      },
      "source": [
        "16. Faça um programa que calcule as raízes de uma equação do segundo grau, na forma ax2 + bx + c. O programa deverá pedir os valores de a, b e c e fazer as consistências, informando ao usuário nas seguintes situações:\n",
        "\n",
        "\n",
        "a - Se o usuário informar o valor de A igual a zero, a equação não é do segundo \n",
        "\n",
        "grau e o programa não deve fazer pedir os demais valores, sendo encerrado;\n",
        "\n",
        "b - Se o delta calculado for negativo, a equação não possui raizes reais. Informe ao usuário e encerre o programa;\n",
        "\n",
        "c - Se o delta calculado for igual a zero a equação possui apenas uma raiz real; informe-a ao usuário;\n",
        "\n",
        "d - Se o delta for positivo, a equação possui duas raiz reais; informe-as ao usuário;"
      ]
    },
    {
      "cell_type": "code",
      "metadata": {
        "id": "0ZkFs6YyHD0s",
        "colab": {
          "base_uri": "https://localhost:8080/",
          "height": 102
        },
        "outputId": "8324987d-3614-405d-f0bb-6790dbe8f9f6"
      },
      "source": [
        "import math\n",
        "\n",
        "print('Equação do 2° grau da forma: ax² + bx + c')\n",
        "\n",
        "a = int(input('Digite o coeficiente a: '))\n",
        "\n",
        "if (a==0):\n",
        "  print('Não é uma equação de segundo grau !')\n",
        "else:\n",
        "  b = int(input('Digite o coeficiente b: '))\n",
        "  c = int(input('Digite o coeficiente c: '))\n",
        "\n",
        "  delta = b*b - (4*a*c)\n",
        "\n",
        "  if delta < 0:\n",
        "    print('A equação não possui raizes reais !')\n",
        "  elif delta == 0:\n",
        "    raiz = -b / (2*a)\n",
        "    print('A equação possui apenas uma raiz real = ', raiz)\n",
        "  else:\n",
        "    raiz1 = ( -b + math.sqrt(delta)) / (2*a)\n",
        "    raiz2 = ( -b - math.sqrt(delta)) / (2*a)\n",
        "    print('A equação possui duas raizes reais = ', raiz1, 'e', raiz2)"
      ],
      "execution_count": null,
      "outputs": [
        {
          "output_type": "stream",
          "text": [
            "Equação do 2° grau da forma: ax² + bx + c\n",
            "Digite o coeficiente a: 23\n",
            "Digite o coeficiente b: 4\n",
            "Digite o coeficiente c: 0\n",
            "A equação possui duas raizes reais =  0.0 e -0.17391304347826086\n"
          ],
          "name": "stdout"
        }
      ]
    },
    {
      "cell_type": "markdown",
      "metadata": {
        "id": "6Yd4tNJ-HEbc"
      },
      "source": [
        "17. Faça um Programa que peça um número correspondente a um determinado ano e em seguida informe se este ano é ou não bissexto."
      ]
    },
    {
      "cell_type": "code",
      "metadata": {
        "id": "QQ0-O0t9HFVJ",
        "colab": {
          "base_uri": "https://localhost:8080/",
          "height": 51
        },
        "outputId": "a92775f7-a535-4f95-922a-0c0581609ed0"
      },
      "source": [
        "ano = int(input('Digite o ano: '))\n",
        "\n",
        "if (ano%4==0 and ano%100!=0) or ano%400==0:\n",
        "  print('O Ano ', ano, ' é um ano bissexto!')\n",
        "else:\n",
        "  print('O Ano ', ano, ' não é um ano bissexto!')\n"
      ],
      "execution_count": null,
      "outputs": [
        {
          "output_type": "stream",
          "text": [
            "Digite o ano: 2091\n",
            "O Ano  2091  não é um ano bissexto!\n"
          ],
          "name": "stdout"
        }
      ]
    },
    {
      "cell_type": "markdown",
      "metadata": {
        "id": "uqfoXDnsHFrs"
      },
      "source": [
        "18. Faça um Programa que peça uma data no formato **dd/mm/aaaa** e determine se a mesma é uma data válida."
      ]
    },
    {
      "cell_type": "code",
      "metadata": {
        "id": "sKu3Kos_HGp4",
        "colab": {
          "base_uri": "https://localhost:8080/"
        },
        "outputId": "0723be8a-fbff-4a4f-88d0-30b160253e5c"
      },
      "source": [
        "dia = int(input('Digite o dia: '))\n",
        "mes = int(input('Digite o mês: '))\n",
        "ano = int(input('Digite o ano: '))\n",
        "\n",
        "validaData = False\n",
        "\n",
        "if (mes==1 or mes==3 or mes==5 or mes==7 or mes==8 or mes==10 or mes==12):\n",
        "  if (dia<=31):\n",
        "    validaData = True\n",
        "\n",
        "elif (mes==4 or mes==6 or mes==9 or mes==11):\n",
        "  if (dia<=30):\n",
        "    validaData= True\n",
        "\n",
        "elif mes==2:\n",
        "  if (ano%4==0 and ano%100!=0) or (ano%400==0):\n",
        "    if (dia<=29):\n",
        "      validaData = True\n",
        "    elif (dia<=28):\n",
        "      validaData = True\n",
        "\n",
        "if (validaData):\n",
        "  print('Data digitada é válida!!')\n",
        "else:  \n",
        "  print('Data digitada é inválida!! Entre com outra data')"
      ],
      "execution_count": 2,
      "outputs": [
        {
          "output_type": "stream",
          "text": [
            "Digite o dia: 25\n",
            "Digite o mês: 6\n",
            "Digite o ano: 2025\n",
            "Data digitada é válida!!\n"
          ],
          "name": "stdout"
        }
      ]
    },
    {
      "cell_type": "markdown",
      "metadata": {
        "id": "FeZS008vHHO6"
      },
      "source": [
        "19. Faça um Programa que leia um número inteiro menor que 1000 e imprima a quantidade de centenas, dezenas e unidades do mesmo.\n",
        "Observando os termos no plural a colocação do \"e\", da vírgula entre outros. Exemplo:\n",
        " * 326 = 3 centenas, 2 dezenas e 6 unidades\n",
        " * 12 = 1 dezena e 2 unidades Testar com: 326, 300, 100, 320, 310,305, 301, 101, 311, 111, 25, 20, 10, 21, 11, 1, 7 e 16"
      ]
    },
    {
      "cell_type": "code",
      "metadata": {
        "id": "xlE24gVPHIII",
        "colab": {
          "base_uri": "https://localhost:8080/"
        },
        "outputId": "a6154d83-3355-47f9-eaed-790c3daa5679"
      },
      "source": [
        "num = input ('Digite um número (Menor que 1.000)')\n",
        "numStr = str (num)\n",
        "tamanhoNum = len(numStr)\n",
        "\n",
        "if (tamanhoNum ==3):\n",
        "  centena = numStr[0:1]\n",
        "  dezena = numStr[1:2]\n",
        "  unidade = numStr[2:3]\n",
        "  print('O número', num, ' digitado representa:', centena,' centenas - ', dezena, ' dezenas - ', unidade, ' unidades!')\n",
        "\n",
        "if (tamanhoNum ==2):\n",
        "  centena = numStr[0:1]\n",
        "  dezena = numStr[1:2]\n",
        "  print('O número', num, ' digitado representa:', centena,' centenas - ', dezena, ' dezenas!')\n",
        "\n",
        "if (tamanhoNum ==1):\n",
        "  centena = numStr[0:1]\n",
        "  print('O número', num, ' digitado representa:', centena,' centenas!')\n"
      ],
      "execution_count": 5,
      "outputs": [
        {
          "output_type": "stream",
          "text": [
            "Digite um número (Menor que 1.000)456\n",
            "O número 456  digitado representa: 4  centenas -  5  dezenas -  6  unidades!\n"
          ],
          "name": "stdout"
        }
      ]
    },
    {
      "cell_type": "markdown",
      "metadata": {
        "id": "rwOf61_EHJfj"
      },
      "source": [
        "20. Faça um Programa para leitura de três notas parciais de um aluno. O programa deve calcular a média alcançada por aluno e presentar:\n",
        "* a - A mensagem \"Aprovado\", se a média for maior ou igual a 7, com a respectiva média alcançada;\n",
        "* b - A mensagem \"Reprovado\", se a média for menor do que 7, com a respectiva média alcançada;\n",
        "* c - A mensagem \"Aprovado com Distinção\", se a média for igual a 10."
      ]
    },
    {
      "cell_type": "code",
      "metadata": {
        "id": "cuCk9pkrHJES",
        "colab": {
          "base_uri": "https://localhost:8080/"
        },
        "outputId": "6ecf013f-8b92-4494-9099-99249a3d743b"
      },
      "source": [
        "nota1 = float(input('Digite a primeira nota do aluno: '))\n",
        "nota2 = float(input('Digite a segunda nota do aluno: '))\n",
        "nota3 = float(input('Digite a terceira nota do aluno: '))\n",
        "\n",
        "notas = [nota1, nota2, nota3]\n",
        "\n",
        "media = sum(notas)/len(notas)\n",
        " \n",
        "if media == 10 or media == 10.0:\n",
        "  print('Aluno Aprovado com Distinção média:', round(media,1))\n",
        "elif media >= 7:\n",
        "  print('Aluno Aprovado! média: ', round(media,1))\n",
        "else:\n",
        "  print('Aluno reprovado! média: ', round(media,1))\n"
      ],
      "execution_count": 17,
      "outputs": [
        {
          "output_type": "stream",
          "text": [
            "Digite a primeira nota do aluno: 10\n",
            "Digite a segunda nota do aluno: 10\n",
            "Digite a terceira nota do aluno: 10\n",
            "Aluno Aprovado com Distinção média: 10.0\n"
          ],
          "name": "stdout"
        }
      ]
    },
    {
      "cell_type": "markdown",
      "metadata": {
        "id": "T7ynxeQfHKty"
      },
      "source": [
        "21. Faça um Programa para um caixa eletrônico. O programa deverá perguntar ao usuário a valor do saque e depois informar quantas notas de cada valor serão fornecidas. As notas disponíveis serão as de 1, 5, 10, 50 e 100 reais. O valor mínimo é de 10 reais e o máximo de 600 reais. O programa não deve se preocupar com a quantidade de notas existentes na máquina.\n",
        "* a - Exemplo 1: Para sacar a quantia de 256 reais, o programa fornece duas notas de 100, uma nota de 50, uma nota de 5 e uma nota de 1;\n",
        "* b - Exemplo 2: Para sacar a quantia de 399 reais, o programa fornece três notas de 100, uma nota de 50, quatro notas de 10, uma nota de 5 e quatro notas de 1."
      ]
    },
    {
      "cell_type": "code",
      "metadata": {
        "id": "CoFyjB0-HMBo"
      },
      "source": [
        "#defindo variaveis\n",
        "\n",
        "saq = int (input('Entre com o valor para saque: '))\n",
        "\n",
        "\n",
        "\n",
        "if (saq<10):\n",
        "  print('Valor minimo para saque é 10 - Entre com outro valor')\n",
        "elif (saq>600):\n",
        "  print('Valor máximo para saque é de 600 - Entre com outro valor')\n",
        "else:\n",
        "  \n",
        "  num = saq\n",
        "  cem = int (num/100)\n",
        "  num = num - (cem*100)\n",
        "\n",
        "  cinquenta = int (num/50)\n",
        "  num = num - (cinquenta*50)\n",
        "\n",
        "  dez = int (num/10)\n",
        "  num = num - (dez*10)\n",
        "\n",
        "  cinco = int (num/5)\n",
        "  num = num - (cinco*5)\n",
        "\n",
        "  um = num\n",
        "\n",
        "  print('Valor do saque: ', saq)\n",
        "  print('Notas 100 = ', cem)\n",
        "  print('Notas 50 = ', cinquenta)\n",
        "  print('Notas 10 = ', dez)\n",
        "  print('Notas 5 = ', cinco)\n",
        "  print('Notas 1 = ', um)\n"
      ],
      "execution_count": null,
      "outputs": []
    },
    {
      "cell_type": "markdown",
      "metadata": {
        "id": "hL9GdHloHMoH"
      },
      "source": [
        "22. Faça um Programa que peça um número inteiro e determine se ele é par ou impar. Dica: utilize o operador módulo (resto da divisão)."
      ]
    },
    {
      "cell_type": "code",
      "metadata": {
        "id": "NjLJv8WKHNy4",
        "colab": {
          "base_uri": "https://localhost:8080/"
        },
        "outputId": "319bab52-dcd0-456b-9eee-a8a3f2736885"
      },
      "source": [
        "num = int(input('Digite um número: '))\n",
        "resto = num % 2\n",
        "\n",
        "if(resto ==0):\n",
        "    print('O número ', num, ' é par!')\n",
        "else:\n",
        "    print('O número ', num, ' é impar!')"
      ],
      "execution_count": 28,
      "outputs": [
        {
          "output_type": "stream",
          "text": [
            "Digite um número: 6\n",
            "O número  6  é par!\n"
          ],
          "name": "stdout"
        }
      ]
    },
    {
      "cell_type": "markdown",
      "metadata": {
        "id": "IduObthIHO4Z"
      },
      "source": [
        "23. Faça um Programa que peça um número e informe se o número é inteiro ou decimal. Dica: utilize uma função de arredondamento."
      ]
    },
    {
      "cell_type": "code",
      "metadata": {
        "id": "w2kRaLk4HPoe",
        "colab": {
          "base_uri": "https://localhost:8080/"
        },
        "outputId": "5711ca22-c921-443d-cc7b-54ee7b1c2d16"
      },
      "source": [
        "num = float(input('Digite um número: '))\n",
        "\n",
        "if (num == round(num)):\n",
        "    print('O número ', num, 'é inteiro')\n",
        "else:\n",
        "    print('O número ', num, 'é decimal')\n",
        "    "
      ],
      "execution_count": 26,
      "outputs": [
        {
          "output_type": "stream",
          "text": [
            "Digite um número: 5.65\n",
            "O número  5.65 é decimal\n"
          ],
          "name": "stdout"
        }
      ]
    },
    {
      "cell_type": "markdown",
      "metadata": {
        "id": "UzR01AaMHQ0g"
      },
      "source": [
        "24. Faça um Programa que leia 2 números e em seguida pergunte ao usuário qual operação ele deseja realizar. O resultado da operação deve ser acompanhado de uma frase que diga se o número é:\n",
        "* a - par ou ímpar;\n",
        "* b - positivo ou negativo;\n",
        "* c - inteiro ou decimal."
      ]
    },
    {
      "cell_type": "code",
      "metadata": {
        "id": "StJ89vERHRuC"
      },
      "source": [
        ""
      ],
      "execution_count": null,
      "outputs": []
    },
    {
      "cell_type": "markdown",
      "metadata": {
        "id": "B-HfgBiPHSPO"
      },
      "source": [
        "25. Faça um programa que faça 5 perguntas para uma pessoa sobre um crime. As perguntas são:\n",
        "* a - \"Telefonou para a vítima?\"\n",
        "* b - \"Esteve no local do crime?\"\n",
        "* c - \"Mora perto da vítima?\"\n",
        "* d - \"Devia para a vítima?\"\n",
        "* e - \"Já trabalhou com a vítima?\" O programa deve no final emitir uma classificação sobre a participação da pessoa no crime. Se a pessoa responder positivamente a 2 questões ela deve ser classificada como \"Suspeita\", entre 3 e 4 como \"Cúmplice\" e 5 como \"Assassino\". Caso contrário, ele será classificado como \"Inocente\"."
      ]
    },
    {
      "cell_type": "code",
      "metadata": {
        "id": "lwKOVQKAHTHJ"
      },
      "source": [
        ""
      ],
      "execution_count": null,
      "outputs": []
    },
    {
      "cell_type": "markdown",
      "metadata": {
        "id": "Ya02e5nzHT2y"
      },
      "source": [
        "26. Um posto está vendendo combustíveis com a seguinte tabela de descontos:\n",
        "* a - Álcool:\n",
        "* b - até 20 litros, desconto de 3% por litro\n",
        "* c - acima de 20 litros, desconto de 5% por litro\n",
        "* d - Gasolina:\n",
        "* e - até 20 litros, desconto de 4% por litro\n",
        "* f - acima de 20 litros, desconto de 6% por litro Escreva um algoritmo que leia o número de litros vendidos, o tipo de combustível (codificado da seguinte forma: A-álcool, G-gasolina), calcule e imprima o valor a ser pago pelo cliente sabendo-se que o preço do litro da gasolina é R 2.50 o preço do litro do álcool é R$ 1.90."
      ]
    },
    {
      "cell_type": "code",
      "metadata": {
        "id": "uoDB1GWNHUok"
      },
      "source": [
        ""
      ],
      "execution_count": null,
      "outputs": []
    },
    {
      "cell_type": "markdown",
      "metadata": {
        "id": "xMrOxzOHHVCI"
      },
      "source": [
        "27. Uma fruteira está vendendo frutas com a seguinte tabela de preços:\n",
        "                      Até 5 Kg           Acima de 5 Kg\n",
        "          Morango         R$ 2,50 por Kg          R$ 2,20 por Kg\n",
        "          Maçã            R$ 1,80 por Kg          R$ 1,50 por Kg\n",
        "\n",
        "Se o cliente comprar mais de 8 Kg em frutas ou o valor total da compra ultrapassar R$ 25,00, receberá ainda um desconto de 10% sobre este total. Escreva um algoritmo para ler a quantidade (em Kg) de morangos e a quantidade (em Kg) de maças adquiridas e escreva o valor a ser pago pelo cliente."
      ]
    },
    {
      "cell_type": "code",
      "metadata": {
        "id": "xuUDmOjLHWU8"
      },
      "source": [
        ""
      ],
      "execution_count": null,
      "outputs": []
    },
    {
      "cell_type": "markdown",
      "metadata": {
        "id": "dWJhDAWGHWpN"
      },
      "source": [
        "28. O Hipermercado Tabajara está com uma promoção de carnes que é imperdível. Confira:\n",
        "                      Até 5 Kg           Acima de 5 Kg\n",
        "        File Duplo      R$ 4,90 por Kg          R$ 5,80 por Kg\n",
        "        Alcatra         R$ 5,90 por Kg          R$ 6,80 por Kg\n",
        "        Picanha         R$ 6,90 por Kg          R$ 7,80 por Kg\n",
        "\n",
        "\n",
        "Para atender a todos os clientes, cada cliente poderá levar apenas um dos tipos de carne da promoção, porém não há limites para a quantidade de carne por cliente. Se compra for feita no cartão Tabajara o cliente receberá ainda um desconto de 5% sobre o total da compra. Escreva um programa que peça o tipo e a quantidade de carne comprada pelo usuário e gere um cupom fiscal, contendo as informações da compra: tipo e quantidade de carne, preço total, tipo de pagamento, valor do desconto e valor a pagar."
      ]
    },
    {
      "cell_type": "code",
      "metadata": {
        "id": "e6mZdsgzHXXm"
      },
      "source": [
        ""
      ],
      "execution_count": null,
      "outputs": []
    }
  ]
}