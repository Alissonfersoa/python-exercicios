{
  "nbformat": 4,
  "nbformat_minor": 0,
  "metadata": {
    "colab": {
      "name": "Exercicios_Iniciantes_Python.ipynb",
      "provenance": [],
      "authorship_tag": "ABX9TyNqrbTy6S6+7Ag/n8Q8aFMW",
      "include_colab_link": true
    },
    "kernelspec": {
      "name": "python3",
      "display_name": "Python 3"
    }
  },
  "cells": [
    {
      "cell_type": "markdown",
      "metadata": {
        "id": "view-in-github",
        "colab_type": "text"
      },
      "source": [
        "<a href=\"https://colab.research.google.com/github/Alissonfersoa/python-exercicios/blob/master/Exercicios_Iniciantes_Python.ipynb\" target=\"_parent\"><img src=\"https://colab.research.google.com/assets/colab-badge.svg\" alt=\"Open In Colab\"/></a>"
      ]
    },
    {
      "cell_type": "markdown",
      "metadata": {
        "id": "AYT7q9lKGOEA",
        "colab_type": "text"
      },
      "source": [
        "***Exercicios para iniciantes em Python***\n",
        "\n",
        "Lista de Estrutura Sequencial\n",
        "\n",
        "Todos os exercicios foram tirados do link abaixo:\n",
        "\n",
        "https://wiki.python.org.br/EstruturaSequencial\n",
        "\n",
        "Notebook desenvolvido por Alisson Fernando Soares Batista"
      ]
    },
    {
      "cell_type": "markdown",
      "metadata": {
        "id": "YuIDPiHc-ZQX",
        "colab_type": "text"
      },
      "source": [
        "Comando de impressão na tela\n"
      ]
    },
    {
      "cell_type": "code",
      "metadata": {
        "id": "lz_p0MmS8S0H",
        "colab_type": "code",
        "colab": {
          "base_uri": "https://localhost:8080/",
          "height": 34
        },
        "outputId": "3745dcec-0ce5-4742-e767-4efeb526ca8a"
      },
      "source": [
        "print(\"Alô mundo!\")"
      ],
      "execution_count": null,
      "outputs": [
        {
          "output_type": "stream",
          "text": [
            "Alô mundo!\n"
          ],
          "name": "stdout"
        }
      ]
    },
    {
      "cell_type": "markdown",
      "metadata": {
        "id": "5m84w8BS-Swu",
        "colab_type": "text"
      },
      "source": [
        "Lendo valores com Input\n"
      ]
    },
    {
      "cell_type": "code",
      "metadata": {
        "id": "UWQrNaUm8okq",
        "colab_type": "code",
        "colab": {
          "base_uri": "https://localhost:8080/",
          "height": 51
        },
        "outputId": "f810f13d-9ee8-47a3-a74e-1a928034fccf"
      },
      "source": [
        "num = int(input('Digite um número: '))\n",
        "print (num)"
      ],
      "execution_count": null,
      "outputs": [
        {
          "output_type": "stream",
          "text": [
            "Digite um número: 5\n",
            "5\n"
          ],
          "name": "stdout"
        }
      ]
    },
    {
      "cell_type": "code",
      "metadata": {
        "id": "v8AA6t7p-P9F",
        "colab_type": "code",
        "colab": {
          "base_uri": "https://localhost:8080/",
          "height": 51
        },
        "outputId": "cfff4088-5f55-47f8-bb61-05d7ef3dc034"
      },
      "source": [
        "num = int(input('Digite um número: '))\n",
        "print('o Número informado foi: ', num)"
      ],
      "execution_count": null,
      "outputs": [
        {
          "output_type": "stream",
          "text": [
            "Digite um número: 5\n",
            "o Número informado foi:  5\n"
          ],
          "name": "stdout"
        }
      ]
    },
    {
      "cell_type": "markdown",
      "metadata": {
        "id": "g3D70ts5BZzn",
        "colab_type": "text"
      },
      "source": [
        "Somando valores"
      ]
    },
    {
      "cell_type": "code",
      "metadata": {
        "id": "TMyVt6vI_gWx",
        "colab_type": "code",
        "colab": {
          "base_uri": "https://localhost:8080/",
          "height": 68
        },
        "outputId": "397a0266-1510-4550-a472-0e63b698a354"
      },
      "source": [
        "num1 = float(input('Digite um número: '))\n",
        "num2 = float(input('Digite outro número: '))\n",
        "soma = num1 + num2\n",
        "\n",
        "#imprime a soma\n",
        "print('A soma dos números é: ', soma)"
      ],
      "execution_count": null,
      "outputs": [
        {
          "output_type": "stream",
          "text": [
            "Digite um número: 4\n",
            "Digite outro número: 13\n",
            "A soma dos números é:  17.0\n"
          ],
          "name": "stdout"
        }
      ]
    },
    {
      "cell_type": "markdown",
      "metadata": {
        "id": "3N-LRRjrCnwO",
        "colab_type": "text"
      },
      "source": [
        "Média de notas e valores"
      ]
    },
    {
      "cell_type": "code",
      "metadata": {
        "id": "DCNmCLHkB6QE",
        "colab_type": "code",
        "colab": {
          "base_uri": "https://localhost:8080/",
          "height": 102
        },
        "outputId": "248d98a3-9907-4988-91f5-00746d056c62"
      },
      "source": [
        "nota1 = float(input('Digite o valor da primeira nota: '))\n",
        "nota2 = float(input('Digite o valor da segunda nota: '))\n",
        "nota3 = float(input('Digite o valor da terceira nota: '))\n",
        "nota4 = float(input('Digite o valor da quarta nota: '))\n",
        "\n",
        "#lista com os valores passados\n",
        "notas = [nota1, nota2, nota3, nota4]\n",
        "\n",
        "#calculo da media usando o len para contar os itens\n",
        "media = sum(notas)/len(notas)\n",
        "\n",
        "print('A média das notas é: ', media)"
      ],
      "execution_count": null,
      "outputs": [
        {
          "output_type": "stream",
          "text": [
            "Digite o valor da primeira nota: 5.5\n",
            "Digite o valor da segunda nota: 6.7\n",
            "Digite o valor da terceira nota: 8.9\n",
            "Digite o valor da quarta nota: 4.3\n",
            "A média das notas é:  6.3500000000000005\n"
          ],
          "name": "stdout"
        }
      ]
    },
    {
      "cell_type": "markdown",
      "metadata": {
        "id": "bnsXNPbmEHif",
        "colab_type": "text"
      },
      "source": [
        "Converter valores ex: Metros em Centimetros"
      ]
    },
    {
      "cell_type": "code",
      "metadata": {
        "id": "xqc49547DdFK",
        "colab_type": "code",
        "colab": {
          "base_uri": "https://localhost:8080/",
          "height": 51
        },
        "outputId": "f9539745-ebda-4484-8e32-73704a8e1cea"
      },
      "source": [
        "metros = float(input('Digite o valor em metros: '))\n",
        "\n",
        "#conversor de unidade de medida\n",
        "centimetros = metros * 100;\n",
        "\n",
        "print('O valor ', metros,'m é igual a : ', centimetros, ' cm')"
      ],
      "execution_count": null,
      "outputs": [
        {
          "output_type": "stream",
          "text": [
            "Digite o valor em metros: 234\n",
            "O valor  234.0 m é igual a :  23400.0  cm\n"
          ],
          "name": "stdout"
        }
      ]
    },
    {
      "cell_type": "markdown",
      "metadata": {
        "id": "2jRMqtiAXoNo",
        "colab_type": "text"
      },
      "source": [
        "Calcular a área de um circulo"
      ]
    },
    {
      "cell_type": "code",
      "metadata": {
        "id": "M6G_iZqfFlJA",
        "colab_type": "code",
        "colab": {
          "base_uri": "https://localhost:8080/",
          "height": 68
        },
        "outputId": "1067f780-90b3-4246-92c7-977d310be8b5"
      },
      "source": [
        "#definindo váriaveis\n",
        "pi = 3.14\n",
        "\n",
        "print('Calculo da área de um circulo')\n",
        "raio = float(input('Digite o valor raio em metros: '))\n",
        "\n",
        "area = pi*(raio*raio)\n",
        "\n",
        "print ('A área do circulo é de: ', area,'m²')"
      ],
      "execution_count": null,
      "outputs": [
        {
          "output_type": "stream",
          "text": [
            "Calculo da área de um circulo\n",
            "Digite o valor raio em metros: 3.5\n",
            "A área do circulo é de:  38.465 m²\n"
          ],
          "name": "stdout"
        }
      ]
    },
    {
      "cell_type": "markdown",
      "metadata": {
        "id": "9IsM2ezjZFcL",
        "colab_type": "text"
      },
      "source": [
        "Calcular a área de um quadrado\n"
      ]
    },
    {
      "cell_type": "code",
      "metadata": {
        "id": "tdFfQJZxYa9t",
        "colab_type": "code",
        "colab": {
          "base_uri": "https://localhost:8080/",
          "height": 68
        },
        "outputId": "5ac7ad76-44be-409a-be26-e4825227a2da"
      },
      "source": [
        "altura = float(input('Digite a altura do quadrado em metros: '))\n",
        "largura = float(input('Digite a largura do quadrado em metros: '))\n",
        "\n",
        "area = float(altura*largura)\n",
        "dobro_area = area * 2\n",
        "\n",
        "print('O dobro da área é: ', dobro_area,'m²')"
      ],
      "execution_count": null,
      "outputs": [
        {
          "output_type": "stream",
          "text": [
            "Digite a altura do quadrado em metros: 23\n",
            "Digite a largura do quadrado em metros: 10\n",
            "O dobro da área é:  460.0 m²\n"
          ],
          "name": "stdout"
        }
      ]
    },
    {
      "cell_type": "markdown",
      "metadata": {
        "id": "3S5t_bPEadTH",
        "colab_type": "text"
      },
      "source": [
        "Calcular horas trabalhadas e salário"
      ]
    },
    {
      "cell_type": "code",
      "metadata": {
        "id": "vnSGCQzTaJp1",
        "colab_type": "code",
        "colab": {
          "base_uri": "https://localhost:8080/",
          "height": 68
        },
        "outputId": "50f9b96e-71e7-46c9-93d0-f5bc09302ea5"
      },
      "source": [
        "\n",
        "salhora = float(input('Digite seu salário por hora: '))\n",
        "horas = float(input('Digite a quantidade de horas trabalhadas: '))\n",
        "\n",
        "salmes = float(salhora * horas)\n",
        "\n",
        "print('Seu salário mensal é de: R$',salmes)\n"
      ],
      "execution_count": null,
      "outputs": [
        {
          "output_type": "stream",
          "text": [
            "Digite seu salário por hora: 14.5\n",
            "Digite a quantidade de horas trabalhadas: 220\n",
            "Seu salário mensal é de: R$ 3190.0\n"
          ],
          "name": "stdout"
        }
      ]
    },
    {
      "cell_type": "markdown",
      "metadata": {
        "id": "vmv7xRYebnon",
        "colab_type": "text"
      },
      "source": [
        "Converter Fahrenheit em Celsius"
      ]
    },
    {
      "cell_type": "code",
      "metadata": {
        "id": "V6mFzDyWbJHj",
        "colab_type": "code",
        "colab": {
          "base_uri": "https://localhost:8080/",
          "height": 51
        },
        "outputId": "33631ba6-7209-4686-bec3-7b0ed6837d50"
      },
      "source": [
        "tempF = float(input('Digite a temperatura em Fahrenheit: '))\n",
        "\n",
        "tempC = 5*((tempF-32)/9)\n",
        "\n",
        "print('A temperatura é de: ', tempC,'°C')"
      ],
      "execution_count": null,
      "outputs": [
        {
          "output_type": "stream",
          "text": [
            "Digite a temperatura em Fahrenheit: 73\n",
            "A temperatura é de:  22.77777777777778 °C\n"
          ],
          "name": "stdout"
        }
      ]
    },
    {
      "cell_type": "markdown",
      "metadata": {
        "id": "8l66hf4icW-K",
        "colab_type": "text"
      },
      "source": [
        "Converter Celsius em Fahrenheit\n"
      ]
    },
    {
      "cell_type": "code",
      "metadata": {
        "id": "mjrtFYwVcIIq",
        "colab_type": "code",
        "colab": {
          "base_uri": "https://localhost:8080/",
          "height": 51
        },
        "outputId": "2bf12715-9320-47d9-f121-fdfab5543c35"
      },
      "source": [
        "tempC = float(input('Digite a temperatura em Celsius: '))\n",
        "\n",
        "tempF = (tempC * 9/5)+32\n",
        "\n",
        "print('A temperatura é de: ', tempF, '°F')"
      ],
      "execution_count": null,
      "outputs": [
        {
          "output_type": "stream",
          "text": [
            "Digite a temperatura em Celsius: 32\n",
            "A temperatura é de:  89.6 °F\n"
          ],
          "name": "stdout"
        }
      ]
    },
    {
      "cell_type": "markdown",
      "metadata": {
        "id": "Q6EZ6vee5U1O",
        "colab_type": "text"
      },
      "source": [
        "Número inteiros e números reais"
      ]
    },
    {
      "cell_type": "code",
      "metadata": {
        "id": "4VtKc2F2cwc5",
        "colab_type": "code",
        "colab": {
          "base_uri": "https://localhost:8080/",
          "height": 119
        },
        "outputId": "48edfc36-a996-448e-e64a-4a6086155ef2"
      },
      "source": [
        "num1 = int(input('Digite o primeiro número: '))\n",
        "num2 = int(input('Digite o segundo número: '))\n",
        "num3 = float(input('Digite o terceiro número: '))\n",
        "\n",
        "print('O produto do dobro do primeiro com a metade do segundo: ', int(num1*2*num2/2))\n",
        "\n",
        "resultado = num1 * 3 + num3\n",
        "\n",
        "if resultado%int(resultado)==0:\n",
        "  print('A soma do triplo do primeiro com o terceiro: ', int(resultado))\n",
        "else:\n",
        "  print('A soma do triplo do primeiro com o terceiro: ', resultado)\n",
        "\n",
        "resultadoCubo = num3 **3\n",
        "\n",
        "if resultadoCubo%int(resultadoCubo)==0:\n",
        "  print('O terceiro elevado ao cubo: ',int(resultadoCubo))\n",
        "else:\n",
        "  print('O terceiro elevado ao cubo: ', resultadoCubo)\n",
        "\n"
      ],
      "execution_count": null,
      "outputs": [
        {
          "output_type": "stream",
          "text": [
            "Digite o primeiro número: 4\n",
            "Digite o segundo número: 5\n",
            "Digite o terceiro número: 3.5\n",
            "O produto do dobro do primeiro com a metade do segundo:  20\n",
            "A soma do triplo do primeiro com o terceiro:  15.5\n",
            "O terceiro elevado ao cubo:  42.875\n"
          ],
          "name": "stdout"
        }
      ]
    },
    {
      "cell_type": "markdown",
      "metadata": {
        "id": "D1LHHYMg_V6r",
        "colab_type": "text"
      },
      "source": [
        "Calculo de peso ideal da pessoa"
      ]
    },
    {
      "cell_type": "code",
      "metadata": {
        "id": "68uACo8w_fyr",
        "colab_type": "code",
        "colab": {
          "base_uri": "https://localhost:8080/",
          "height": 51
        },
        "outputId": "4e7c6a4e-e590-493e-c22a-9b1a238ad175"
      },
      "source": [
        "altura = float(input('Digite sua altura: '))\n",
        "\n",
        "pesoideal = (72.7*altura)-58\n",
        "\n",
        "print('Seu peso idela é de: ', pesoideal, 'kg')"
      ],
      "execution_count": null,
      "outputs": [
        {
          "output_type": "stream",
          "text": [
            "Digite sua altura: 1.72\n",
            "Seu peso idela é de:  67.044 kg\n"
          ],
          "name": "stdout"
        }
      ]
    },
    {
      "cell_type": "markdown",
      "metadata": {
        "id": "FtTzYPq8Au5T",
        "colab_type": "text"
      },
      "source": [
        "Calculo de peso ideal da pessoa por gênero"
      ]
    },
    {
      "cell_type": "code",
      "metadata": {
        "id": "h0woVOgW_geg",
        "colab_type": "code",
        "colab": {
          "base_uri": "https://localhost:8080/",
          "height": 68
        },
        "outputId": "152f7797-ccf3-48a6-9c0b-d5150311686c"
      },
      "source": [
        "genero = str(input('Digite seu sexo: (M - Masculino / F - Feminino) '))\n",
        "altura = float(input('Digite sua altura: '))\n",
        "\n",
        "pesoidealM = (72.7*altura)-58\n",
        "pesoidealF = (62.1*altura)-44.7\n",
        "\n",
        "if genero =='M':\n",
        "  print('A soma do triplo do primeiro com o terceiro: ', pesoidealM,'kg')\n",
        "else:\n",
        "  print('A soma do triplo do primeiro com o terceiro: ', pesoidealF, 'kg')"
      ],
      "execution_count": null,
      "outputs": [
        {
          "output_type": "stream",
          "text": [
            "Digite seu sexo: (M - Masculino / F - Feminino) F\n",
            "Digite sua altura: 1.65\n",
            "A soma do triplo do primeiro com o terceiro:  57.765 kg\n"
          ],
          "name": "stdout"
        }
      ]
    },
    {
      "cell_type": "markdown",
      "metadata": {
        "id": "UtHQP2i7CrUs",
        "colab_type": "text"
      },
      "source": [
        "Calculo de peso excedente dos peixes"
      ]
    },
    {
      "cell_type": "code",
      "metadata": {
        "id": "_3YMGDBSCqyt",
        "colab_type": "code",
        "colab": {
          "base_uri": "https://localhost:8080/",
          "height": 51
        },
        "outputId": "f90ae534-8bc9-4f25-bd5a-24958580b819"
      },
      "source": [
        "peso = float(input('Digite a quantidade em quilos: '))\n",
        "ideal = 50\n",
        "multa = 4.00\n",
        "excesso = peso - ideal\n",
        "\n",
        "\n",
        "#calculo peso excedente\n",
        "if peso > ideal:\n",
        "  print('O peso total é de: ', peso, ' Kg e será preciso pagar uma multa de excesso no valor de: R$' , excesso * multa)\n",
        "else:\n",
        "  print('O peso total é de: ', peso, ' Kg e não será necessário pagar multa por excesso')"
      ],
      "execution_count": null,
      "outputs": [
        {
          "output_type": "stream",
          "text": [
            "Digite a quantidade em quilos: 51\n",
            "O peso total é de:  51.0  Kg e será preciso pagar uma multa de excesso no valor de: R$ 4.0\n"
          ],
          "name": "stdout"
        }
      ]
    },
    {
      "cell_type": "markdown",
      "metadata": {
        "id": "cyxHdL1vGn4r",
        "colab_type": "text"
      },
      "source": [
        "Calculo de salário liquido"
      ]
    },
    {
      "cell_type": "code",
      "metadata": {
        "id": "_TlFA1-FEqJR",
        "colab_type": "code",
        "colab": {
          "base_uri": "https://localhost:8080/",
          "height": 187
        },
        "outputId": "67a49e15-0196-4a1a-b78f-dc184c43a4e1"
      },
      "source": [
        "#define variaveis\n",
        "ir = 0.11         #11%\n",
        "inss = 0.08        #8%\n",
        "sindicato = 0.05   #5%\n",
        "\n",
        "salhora = float(input('Digite seu salario por hora: '))\n",
        "horas = float(input('Digite a quantidade de horas trabalhadas no mês: '))\n",
        "\n",
        "#calculo\n",
        "salbruto = salhora * horas\n",
        "descontoINSS = salbruto*inss\n",
        "descontoIR = salbruto*ir\n",
        "descontoSindicato = salbruto*sindicato\n",
        "salliquido = (salbruto - descontoINSS - descontoIR - descontoSindicato)\n",
        "\n",
        "#saida\n",
        "print('----------------------------------')\n",
        "print('             Extrato')\n",
        "print('+ Salário Bruto      : R$', salbruto)\n",
        "print('- IR           (11%) : R$',descontoIR)\n",
        "print('- INSS         (8%)  : R$',descontoINSS)\n",
        "print('- Sindicato    (5%)  : R$',descontoSindicato)\n",
        "print('== Salário Liquido   : R$',salliquido)\n",
        "print('----------------------------------')"
      ],
      "execution_count": null,
      "outputs": [
        {
          "output_type": "stream",
          "text": [
            "Digite seu salario por hora: 14.53\n",
            "Digite a quantidade de horas trabalhadas no mês: 220\n",
            "----------------------------------\n",
            "             Extrato\n",
            "+ Salário Bruto      : R$ 3196.6\n",
            "- IR           (11%) : R$ 351.626\n",
            "- INSS         (8%)  : R$ 255.728\n",
            "- Sindicato    (5%)  : R$ 159.83\n",
            "== Salário Liquido   : R$ 2429.416\n",
            "----------------------------------\n"
          ],
          "name": "stdout"
        }
      ]
    },
    {
      "cell_type": "markdown",
      "metadata": {
        "id": "-HdiO_-rYjXt",
        "colab_type": "text"
      },
      "source": [
        "Calculo Loja de Tintas"
      ]
    },
    {
      "cell_type": "code",
      "metadata": {
        "id": "zlDyNOucTrsA",
        "colab_type": "code",
        "colab": {
          "base_uri": "https://localhost:8080/",
          "height": 68
        },
        "outputId": "75f4a781-1903-4405-93a4-2bf9905a7e28"
      },
      "source": [
        "area = float(input('Digite a quantidade de metros quadradados que deseja pintar: '))\n",
        "\n",
        "litros = area/3\n",
        "precoL = 80.0\n",
        "capacidadeL = 18\n",
        "\n",
        "latas = float(litros / capacidadeL)\n",
        "total = float(latas*precoL)\n",
        "\n",
        "print('Será necessário usar ', round(latas,2), ' latas de tinta')\n",
        "print('O preço total é de: R$ ', round(total,2))\n"
      ],
      "execution_count": null,
      "outputs": [
        {
          "output_type": "stream",
          "text": [
            "Digite a quantidade de metros quadradados que deseja pintar: 200\n",
            "Será necessário usar  3.7  latas de tinta\n",
            "O preço total é de: R$  296.3\n"
          ],
          "name": "stdout"
        }
      ]
    },
    {
      "cell_type": "markdown",
      "metadata": {
        "id": "FzWgCkLDGnbo",
        "colab_type": "text"
      },
      "source": [
        "Calculo Loja de Tintas 2\n"
      ]
    },
    {
      "cell_type": "code",
      "metadata": {
        "id": "iGo41z64scdq",
        "colab_type": "code",
        "colab": {
          "base_uri": "https://localhost:8080/",
          "height": 85
        },
        "outputId": "f911e3d4-2b96-4763-90f0-9f07d87cb17b"
      },
      "source": [
        "#código pode melhorar com while e arredondamento dos valores\n",
        "area = float(input('Digite a quantidade de metros quadradados que deseja pintar: '))\n",
        "\n",
        "litros = float(area/6)\n",
        "litrosf = float(litros*1.1)\n",
        "latas =   float(litrosf)/18\n",
        "galoes = float(litrosf)/float(3.6)\n",
        "precolatas = latas*80.0\n",
        "precogaloes = galoes*25.0\n",
        "tintanecessaria = float(area)/6\n",
        "lata = 18.0\n",
        "galao = 3.6\n",
        "limite = 108\n",
        "\n",
        "x = area - limite\n",
        "y = x/6\n",
        "y1= float(y*1.1)\n",
        "\n",
        "a1 = int(litrosf/18)\n",
        "a2 = litrosf%18\n",
        "a3 = (a2/3.6)\n",
        "a4 = ((a1*80)+(a3*25))\n",
        "\n",
        "print('Você precisará de ',litrosf, 'litros de tinta,',latas,' latas e pagará R$',precolatas)\n",
        "print('Você precisará de ',litrosf, 'litros de tinta,',galoes,' galões e pagará R$',precogaloes)\n",
        "print('Você de ',litrosf, 'litros de tinta,',a1,'latas,' ,a3, ' galões e pagará R$',a4)\n"
      ],
      "execution_count": null,
      "outputs": [
        {
          "output_type": "stream",
          "text": [
            "Digite a quantidade de metros quadradados que deseja pintar: 200\n",
            "Você precisará de  36.66666666666667 litros de tinta, 2.037037037037037  latas e pagará R$ 162.962962962963\n",
            "Você precisará de  36.66666666666667 litros de tinta, 10.185185185185187  galões e pagará R$ 254.62962962962968\n",
            "Você de  36.66666666666667 litros de tinta, 2 latas, 0.1851851851851865  galões e pagará R$ 164.62962962962968\n"
          ],
          "name": "stdout"
        }
      ]
    },
    {
      "cell_type": "markdown",
      "metadata": {
        "id": "xEUvsGHPKszz",
        "colab_type": "text"
      },
      "source": [
        "Programa para calcular velocidade de download"
      ]
    },
    {
      "cell_type": "code",
      "metadata": {
        "id": "8IeqNN00KtnR",
        "colab_type": "code",
        "colab": {
          "base_uri": "https://localhost:8080/",
          "height": 68
        },
        "outputId": "b8664d68-b37e-4671-b013-63b07f202023"
      },
      "source": [
        "#código pode melhorar com arredondamento dos valores\n",
        "arquivo = float(input('Informe o tamanho do arquivo para download (em MB): '))\n",
        "velocidade = float(input('Informe a velocidade de sua internet (em MBPS): '))\n",
        "\n",
        "tempo = arquivo/velocidade\n",
        "minuto = tempo/60.0\n",
        "\n",
        "print('O tempo aproximado para download do arquivo usando este link é de: ', minuto,' minutos')\n"
      ],
      "execution_count": null,
      "outputs": [
        {
          "output_type": "stream",
          "text": [
            "Informe o tamanho do arquivo para download (em MB): 8000\n",
            "Informe a velocidade de sua internet (em MBPS): 10\n",
            "O tempo aproximado para download do arquivo usando este link é de:  13.333333333333334  minutos\n"
          ],
          "name": "stdout"
        }
      ]
    },
    {
      "cell_type": "code",
      "metadata": {
        "id": "wQ8i6YQGLfJi",
        "colab_type": "code",
        "colab": {}
      },
      "source": [
        ""
      ],
      "execution_count": null,
      "outputs": []
    }
  ]
}