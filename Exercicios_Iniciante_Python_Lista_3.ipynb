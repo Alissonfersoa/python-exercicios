{
  "nbformat": 4,
  "nbformat_minor": 0,
  "metadata": {
    "colab": {
      "name": "Exercicios_Iniciante_Python-Lista 3.ipynb",
      "provenance": [],
      "collapsed_sections": [],
      "authorship_tag": "ABX9TyPRv37Na6iya9xeNZm35S0d",
      "include_colab_link": true
    },
    "kernelspec": {
      "name": "python3",
      "display_name": "Python 3"
    }
  },
  "cells": [
    {
      "cell_type": "markdown",
      "metadata": {
        "id": "view-in-github",
        "colab_type": "text"
      },
      "source": [
        "<a href=\"https://colab.research.google.com/github/Alissonfersoa/python-exercicios/blob/master/Exercicios_Iniciante_Python_Lista_3.ipynb\" target=\"_parent\"><img src=\"https://colab.research.google.com/assets/colab-badge.svg\" alt=\"Open In Colab\"/></a>"
      ]
    },
    {
      "cell_type": "markdown",
      "metadata": {
        "id": "w72hgEWcbpAh",
        "colab_type": "text"
      },
      "source": [
        "***Exercicios para iniciantes em Python***\n",
        "\n",
        "Lista de Estrutura De Repetição\n",
        "\n",
        "Todos os exercicios foram tirados do link abaixo:\n",
        "\n",
        "https://wiki.python.org.br/EstruturaDeRepeticao\n",
        "\n",
        "Notebook desenvolvido por Alisson Fernando Soares Batista"
      ]
    },
    {
      "cell_type": "markdown",
      "metadata": {
        "id": "SKdB-I3PbvQj",
        "colab_type": "text"
      },
      "source": [
        "1. Faça um programa que peça uma nota, entre zero e dez. Mostre uma mensagem caso o valor seja inválido e continue pedindo até que o usuário informe um valor válido."
      ]
    },
    {
      "cell_type": "code",
      "metadata": {
        "id": "sWND6BQDbg4n",
        "colab_type": "code",
        "colab": {}
      },
      "source": [
        ""
      ],
      "execution_count": null,
      "outputs": []
    },
    {
      "cell_type": "markdown",
      "metadata": {
        "id": "6tTOwFaAbwUF",
        "colab_type": "text"
      },
      "source": [
        "2. Faça um programa que leia um nome de usuário e a sua senha e não aceite a senha igual ao nome do usuário, mostrando uma mensagem de erro e voltando a pedir as informações."
      ]
    },
    {
      "cell_type": "code",
      "metadata": {
        "id": "k4Ts6V7_bwtZ",
        "colab_type": "code",
        "colab": {}
      },
      "source": [
        ""
      ],
      "execution_count": null,
      "outputs": []
    },
    {
      "cell_type": "markdown",
      "metadata": {
        "id": "s9Sd_I-6byhK",
        "colab_type": "text"
      },
      "source": [
        "3. Faça um programa que leia e valide as seguintes informações:\n",
        "* a - Nome: maior que 3 caracteres;\n",
        "* b - Idade: entre 0 e 150;\n",
        "* c - Salário: maior que zero;\n",
        "* d - Sexo: 'f' ou 'm';\n",
        "* e - Estado Civil: 's', 'c', 'v', 'd';"
      ]
    },
    {
      "cell_type": "code",
      "metadata": {
        "id": "BHjCaQ2Yby1_",
        "colab_type": "code",
        "colab": {}
      },
      "source": [
        ""
      ],
      "execution_count": null,
      "outputs": []
    },
    {
      "cell_type": "markdown",
      "metadata": {
        "id": "40QCsgC8bzDU",
        "colab_type": "text"
      },
      "source": [
        "4. Supondo que a população de um país A seja da ordem de 80000 habitantes com uma taxa anual de crescimento de 3% e que a população de B seja 200000 habitantes com uma taxa de crescimento de 1.5%. Faça um programa que calcule e escreva o número de anos necessários para que a população do país A ultrapasse ou iguale a população do país B, mantidas as taxas de crescimento."
      ]
    },
    {
      "cell_type": "code",
      "metadata": {
        "id": "2onEVwggbzPd",
        "colab_type": "code",
        "colab": {}
      },
      "source": [
        ""
      ],
      "execution_count": null,
      "outputs": []
    },
    {
      "cell_type": "markdown",
      "metadata": {
        "id": "bc7D1-BkbzYb",
        "colab_type": "text"
      },
      "source": [
        "5. Altere o programa anterior permitindo ao usuário informar as populações e as taxas de crescimento iniciais. Valide a entrada e permita repetir a operação."
      ]
    },
    {
      "cell_type": "code",
      "metadata": {
        "id": "8KrpU5NRbzgY",
        "colab_type": "code",
        "colab": {}
      },
      "source": [
        ""
      ],
      "execution_count": null,
      "outputs": []
    },
    {
      "cell_type": "markdown",
      "metadata": {
        "id": "VGE2ii5sbznx",
        "colab_type": "text"
      },
      "source": [
        "6. Faça um programa que imprima na tela os números de 1 a 20, um abaixo do outro. Depois modifique o programa para que ele mostre os números um ao lado do outro."
      ]
    },
    {
      "cell_type": "code",
      "metadata": {
        "id": "rILC0wbNbzvW",
        "colab_type": "code",
        "colab": {}
      },
      "source": [
        ""
      ],
      "execution_count": null,
      "outputs": []
    },
    {
      "cell_type": "markdown",
      "metadata": {
        "id": "7ICGBQH0bz4Q",
        "colab_type": "text"
      },
      "source": [
        "7. Faça um programa que leia 5 números e informe o maior número."
      ]
    },
    {
      "cell_type": "code",
      "metadata": {
        "id": "sleu-Bj9bz_g",
        "colab_type": "code",
        "colab": {}
      },
      "source": [
        ""
      ],
      "execution_count": null,
      "outputs": []
    },
    {
      "cell_type": "markdown",
      "metadata": {
        "id": "aws27mL2b0JI",
        "colab_type": "text"
      },
      "source": [
        "8. Faça um programa que leia 5 números e informe a soma e a média dos números."
      ]
    },
    {
      "cell_type": "code",
      "metadata": {
        "id": "LmHKEqThb0QU",
        "colab_type": "code",
        "colab": {}
      },
      "source": [
        ""
      ],
      "execution_count": null,
      "outputs": []
    },
    {
      "cell_type": "markdown",
      "metadata": {
        "id": "0AOEWiRrb0Xe",
        "colab_type": "text"
      },
      "source": [
        "9. Faça um programa que imprima na tela apenas os números ímpares entre 1 e 50."
      ]
    },
    {
      "cell_type": "code",
      "metadata": {
        "id": "0rKA2eJ8b0fm",
        "colab_type": "code",
        "colab": {}
      },
      "source": [
        ""
      ],
      "execution_count": null,
      "outputs": []
    },
    {
      "cell_type": "markdown",
      "metadata": {
        "id": "RIknC8Sbb0mn",
        "colab_type": "text"
      },
      "source": [
        "10. Faça um programa que receba dois números inteiros e gere os números inteiros que estão no intervalo compreendido por eles."
      ]
    },
    {
      "cell_type": "code",
      "metadata": {
        "id": "vXYpm64jb0uG",
        "colab_type": "code",
        "colab": {}
      },
      "source": [
        ""
      ],
      "execution_count": null,
      "outputs": []
    },
    {
      "cell_type": "markdown",
      "metadata": {
        "id": "_5YbCxIqb02S",
        "colab_type": "text"
      },
      "source": [
        "11. Altere o programa anterior para mostrar no final a soma dos números."
      ]
    },
    {
      "cell_type": "code",
      "metadata": {
        "id": "rD9MSdYlb0-e",
        "colab_type": "code",
        "colab": {}
      },
      "source": [
        ""
      ],
      "execution_count": null,
      "outputs": []
    },
    {
      "cell_type": "markdown",
      "metadata": {
        "id": "4eweN1w-b1Fa",
        "colab_type": "text"
      },
      "source": [
        "12. Desenvolva um gerador de tabuada, capaz de gerar a tabuada de qualquer número inteiro entre 1 a 10. O usuário deve informar de qual numero ele deseja ver a tabuada. A saída deve ser conforme o exemplo abaixo:\n",
        "\n",
        "            Tabuada de 5:\n",
        "            5 X 1 = 5\n",
        "            5 X 2 = 10\n",
        "            ...\n",
        "            5 X 10 = 50"
      ]
    },
    {
      "cell_type": "code",
      "metadata": {
        "id": "hjy-rYTpb1MM",
        "colab_type": "code",
        "colab": {}
      },
      "source": [
        ""
      ],
      "execution_count": null,
      "outputs": []
    },
    {
      "cell_type": "markdown",
      "metadata": {
        "id": "a7t83yQEb1UO",
        "colab_type": "text"
      },
      "source": [
        "13. Faça um programa que peça dois números, base e expoente, calcule e mostre o primeiro número elevado ao segundo número. Não utilize a função de potência da linguagem."
      ]
    },
    {
      "cell_type": "code",
      "metadata": {
        "id": "v19vJ-_Wb1bA",
        "colab_type": "code",
        "colab": {}
      },
      "source": [
        ""
      ],
      "execution_count": null,
      "outputs": []
    },
    {
      "cell_type": "markdown",
      "metadata": {
        "id": "XSqCR_cgb1hl",
        "colab_type": "text"
      },
      "source": [
        "14. Faça um programa que peça 10 números inteiros, calcule e mostre a quantidade de números pares e a quantidade de números impares."
      ]
    },
    {
      "cell_type": "code",
      "metadata": {
        "id": "x9UqSA_Nb1oa",
        "colab_type": "code",
        "colab": {}
      },
      "source": [
        ""
      ],
      "execution_count": null,
      "outputs": []
    },
    {
      "cell_type": "markdown",
      "metadata": {
        "id": "U_1YaOxrb1u8",
        "colab_type": "text"
      },
      "source": [
        "15. A série de Fibonacci é formada pela seqüência 1,1,2,3,5,8,13,21,34,55,... Faça um programa capaz de gerar a série até o n−ésimo termo."
      ]
    },
    {
      "cell_type": "code",
      "metadata": {
        "id": "kHQQTze0b11b",
        "colab_type": "code",
        "colab": {}
      },
      "source": [
        ""
      ],
      "execution_count": null,
      "outputs": []
    },
    {
      "cell_type": "markdown",
      "metadata": {
        "id": "lUs2A4Zjb18c",
        "colab_type": "text"
      },
      "source": [
        "16. A série de Fibonacci é formada pela seqüência 0,1,1,2,3,5,8,13,21,34,55,... Faça um programa que gere a série até que o valor seja maior que 500."
      ]
    },
    {
      "cell_type": "code",
      "metadata": {
        "id": "NzSFqBBWb2EE",
        "colab_type": "code",
        "colab": {}
      },
      "source": [
        ""
      ],
      "execution_count": null,
      "outputs": []
    },
    {
      "cell_type": "markdown",
      "metadata": {
        "id": "VK6lZ5Wib2LR",
        "colab_type": "text"
      },
      "source": [
        "17. Faça um programa que calcule o fatorial de um número inteiro fornecido pelo usuário. Ex.: 5!=5.4.3.2.1=120"
      ]
    },
    {
      "cell_type": "code",
      "metadata": {
        "id": "kxRsYzCtb2Tc",
        "colab_type": "code",
        "colab": {}
      },
      "source": [
        ""
      ],
      "execution_count": null,
      "outputs": []
    },
    {
      "cell_type": "markdown",
      "metadata": {
        "id": "xLkqzoK4b3ZW",
        "colab_type": "text"
      },
      "source": [
        "18. Faça um programa que, dado um conjunto de N números, determine o menor valor, o maior valor e a soma dos valores."
      ]
    },
    {
      "cell_type": "code",
      "metadata": {
        "id": "i9TnW5Apb3fq",
        "colab_type": "code",
        "colab": {}
      },
      "source": [
        ""
      ],
      "execution_count": null,
      "outputs": []
    },
    {
      "cell_type": "markdown",
      "metadata": {
        "id": "2iRtkfcQb3le",
        "colab_type": "text"
      },
      "source": [
        "19. Altere o programa anterior para que ele aceite apenas números entre 0 e 1000."
      ]
    },
    {
      "cell_type": "code",
      "metadata": {
        "id": "MYVIdBxrb3sq",
        "colab_type": "code",
        "colab": {}
      },
      "source": [
        ""
      ],
      "execution_count": null,
      "outputs": []
    },
    {
      "cell_type": "markdown",
      "metadata": {
        "id": "X38I0X8ub3ya",
        "colab_type": "text"
      },
      "source": [
        "20. Altere o programa de cálculo do fatorial, permitindo ao usuário calcular o fatorial várias vezes e limitando o fatorial a números inteiros positivos e menores que 16."
      ]
    },
    {
      "cell_type": "code",
      "metadata": {
        "id": "DB7euWX5b34l",
        "colab_type": "code",
        "colab": {}
      },
      "source": [
        ""
      ],
      "execution_count": null,
      "outputs": []
    },
    {
      "cell_type": "markdown",
      "metadata": {
        "id": "XwGPg6nlb3-z",
        "colab_type": "text"
      },
      "source": [
        "21. Faça um programa que peça um número inteiro e determine se ele é ou não um número primo. Um número primo é aquele que é divisível somente por ele mesmo e por 1."
      ]
    },
    {
      "cell_type": "code",
      "metadata": {
        "id": "t1W45vmib4FH",
        "colab_type": "code",
        "colab": {}
      },
      "source": [
        ""
      ],
      "execution_count": null,
      "outputs": []
    },
    {
      "cell_type": "markdown",
      "metadata": {
        "id": "nm4UFY0Ib4K2",
        "colab_type": "text"
      },
      "source": [
        "22. Altere o programa de cálculo dos números primos, informando, caso o número não seja primo, por quais número ele é divisível."
      ]
    },
    {
      "cell_type": "code",
      "metadata": {
        "id": "Rjuxquiqb4UT",
        "colab_type": "code",
        "colab": {}
      },
      "source": [
        ""
      ],
      "execution_count": null,
      "outputs": []
    },
    {
      "cell_type": "markdown",
      "metadata": {
        "id": "_1IPca3Lb4Zl",
        "colab_type": "text"
      },
      "source": [
        "23. Faça um programa que mostre todos os primos entre 1 e N sendo N um número inteiro fornecido pelo usuário. O programa deverá mostrar também o número de divisões que ele executou para encontrar os números primos. Serão avaliados o funcionamento, o estilo e o número de testes (divisões) executados."
      ]
    },
    {
      "cell_type": "code",
      "metadata": {
        "id": "9fpXV9H_b4kn",
        "colab_type": "code",
        "colab": {}
      },
      "source": [
        ""
      ],
      "execution_count": null,
      "outputs": []
    },
    {
      "cell_type": "markdown",
      "metadata": {
        "id": "1RDReCREb4sQ",
        "colab_type": "text"
      },
      "source": [
        "24. Faça um programa que calcule o mostre a média aritmética de N notas."
      ]
    },
    {
      "cell_type": "code",
      "metadata": {
        "id": "Z3JPeTlub4yR",
        "colab_type": "code",
        "colab": {}
      },
      "source": [
        ""
      ],
      "execution_count": null,
      "outputs": []
    },
    {
      "cell_type": "markdown",
      "metadata": {
        "id": "cm3Ko7XKb436",
        "colab_type": "text"
      },
      "source": [
        "25. Faça um programa que peça para n pessoas a sua idade, ao final o programa devera verificar se a média de idade da turma varia entre 0 e 25,26 e 60 e maior que 60; e então, dizer se a turma é jovem, adulta ou idosa, conforme a média calculada."
      ]
    },
    {
      "cell_type": "code",
      "metadata": {
        "id": "MMA2eA78b4-3",
        "colab_type": "code",
        "colab": {}
      },
      "source": [
        ""
      ],
      "execution_count": null,
      "outputs": []
    },
    {
      "cell_type": "markdown",
      "metadata": {
        "id": "LPXga7KZcDSR",
        "colab_type": "text"
      },
      "source": [
        "26. Numa eleição existem três candidatos. Faça um programa que peça o número total de eleitores. Peça para cada eleitor votar e ao final mostrar o número de votos de cada candidato."
      ]
    },
    {
      "cell_type": "code",
      "metadata": {
        "id": "vOnlaxSKcDjQ",
        "colab_type": "code",
        "colab": {}
      },
      "source": [
        ""
      ],
      "execution_count": null,
      "outputs": []
    },
    {
      "cell_type": "markdown",
      "metadata": {
        "id": "f6Yw9t8KcDqH",
        "colab_type": "text"
      },
      "source": [
        "27. Faça um programa que calcule o número médio de alunos por turma. Para isto, peça a quantidade de turmas e a quantidade de alunos para cada turma. As turmas não podem ter mais de 40 alunos."
      ]
    },
    {
      "cell_type": "code",
      "metadata": {
        "id": "YKpnSkTZcDwJ",
        "colab_type": "code",
        "colab": {}
      },
      "source": [
        ""
      ],
      "execution_count": null,
      "outputs": []
    },
    {
      "cell_type": "markdown",
      "metadata": {
        "id": "59_31zRJcD3x",
        "colab_type": "text"
      },
      "source": [
        "28. Faça um programa que calcule o valor total investido por um colecionador em sua coleção de CDs e o valor médio gasto em cada um deles. O usuário deverá informar a quantidade de CDs e o valor para em cada um."
      ]
    },
    {
      "cell_type": "code",
      "metadata": {
        "id": "0SN51lN4cD-U",
        "colab_type": "code",
        "colab": {}
      },
      "source": [
        ""
      ],
      "execution_count": null,
      "outputs": []
    },
    {
      "cell_type": "markdown",
      "metadata": {
        "id": "5sIauADucEEu",
        "colab_type": "text"
      },
      "source": [
        "29. O Sr. Manoel Joaquim possui uma grande loja de artigos de R$ 1,99, com cerca de 10 caixas. Para agilizar o cálculo de quanto cada cliente deve pagar ele desenvolveu um tabela que contém o número de itens que o cliente comprou e ao lado o valor da conta. Desta forma a atendente do caixa precisa apenas contar quantos itens o cliente está levando e olhar na tabela de preços. Você foi contratado para desenvolver o programa que monta esta tabela de preços, que conterá os preços de 1 até 50 produtos, conforme o exemplo abaixo:\n",
        "\n",
        "              Lojas Quase Dois - Tabela de preços\n",
        "                1 - R$ 1.99\n",
        "                2 - R$ 3.98\n",
        "                ...\n",
        "                50 - R$ 99.50"
      ]
    },
    {
      "cell_type": "code",
      "metadata": {
        "id": "gY7k4T-AcEK8",
        "colab_type": "code",
        "colab": {}
      },
      "source": [
        ""
      ],
      "execution_count": null,
      "outputs": []
    },
    {
      "cell_type": "markdown",
      "metadata": {
        "id": "8TJeGa_ycER-",
        "colab_type": "text"
      },
      "source": [
        "30. O Sr. Manoel Joaquim acaba de adquirir uma panificadora e pretende implantar a metodologia da tabelinha, que já é um sucesso na sua loja de 1,99. Você foi contratado para desenvolver o programa que monta a tabela de preços de pães, de 1 até 50 pães, a partir do preço do pão informado pelo usuário, conforme o exemplo abaixo:\n",
        "                Preço do pão: R$ 0.18\n",
        "                Panificadora Pão de Ontem - Tabela de preços\n",
        "                1 - R$ 0.18\n",
        "                        2 - R$ 0.36\n",
        "                ...\n",
        "                50 - R$ 9.00"
      ]
    },
    {
      "cell_type": "code",
      "metadata": {
        "id": "7esnZptPcEYM",
        "colab_type": "code",
        "colab": {}
      },
      "source": [
        ""
      ],
      "execution_count": null,
      "outputs": []
    },
    {
      "cell_type": "markdown",
      "metadata": {
        "id": "xhezMSg2cEmt",
        "colab_type": "text"
      },
      "source": [
        "31. O Sr. Manoel Joaquim expandiu seus negócios para além dos negócios de 1,99 e agora possui uma loja de conveniências. Faça um programa que implemente uma caixa registradora rudimentar. O programa deverá receber um número desconhecido de valores referentes aos preços das mercadorias. Um valor zero deve ser informado pelo operador para indicar o final da compra. O programa deve então mostrar o total da compra e perguntar o valor em dinheiro que o cliente forneceu, para então calcular e mostrar o valor do troco. Após esta operação, o programa deverá voltar ao ponto inicial, para registrar a próxima compra. A saída deve ser conforme o exemplo abaixo:\n",
        "        Lojas Tabajara \n",
        "                Produto 1: R$ 2.20\n",
        "        Produto 2: R$ 5.80\n",
        "                Produto 3: R$ 0\n",
        "        Total: R$ 9.00\n",
        "        Dinheiro: R$ 20.00\n",
        "        Troco: R$ 11.00\n",
        "        ..."
      ]
    },
    {
      "cell_type": "code",
      "metadata": {
        "id": "HYOl9-JjcEy7",
        "colab_type": "code",
        "colab": {}
      },
      "source": [
        ""
      ],
      "execution_count": null,
      "outputs": []
    },
    {
      "cell_type": "markdown",
      "metadata": {
        "id": "hpPm-NOOcE6B",
        "colab_type": "text"
      },
      "source": [
        "32. Faça um programa que calcule o fatorial de um número inteiro fornecido pelo usuário. Ex.: 5!=5.4.3.2.1=120. A saída deve ser conforme o exemplo abaixo:\n",
        "          Fatorial de: 5\n",
        "          5! =  5 . 4 . 3 . 2 . 1 = 120"
      ]
    },
    {
      "cell_type": "code",
      "metadata": {
        "id": "UlqUwM5XcFBB",
        "colab_type": "code",
        "colab": {}
      },
      "source": [
        ""
      ],
      "execution_count": null,
      "outputs": []
    },
    {
      "cell_type": "markdown",
      "metadata": {
        "id": "KyEII4nMeeuu",
        "colab_type": "text"
      },
      "source": [
        "33. O Departamento Estadual de Meteorologia lhe contratou para desenvolver um programa que leia as um conjunto indeterminado de temperaturas, e informe ao final a menor e a maior temperaturas informadas, bem como a média das temperaturas."
      ]
    },
    {
      "cell_type": "code",
      "metadata": {
        "id": "ph27fLY5egqv",
        "colab_type": "code",
        "colab": {}
      },
      "source": [
        ""
      ],
      "execution_count": null,
      "outputs": []
    },
    {
      "cell_type": "markdown",
      "metadata": {
        "id": "LWcGcdExeg7o",
        "colab_type": "text"
      },
      "source": [
        "34. Os números primos possuem várias aplicações dentro da Computação, por exemplo na Criptografia. Um número primo é aquele que é divisível apenas por um e por ele mesmo. Faça um programa que peça um número inteiro e determine se ele é ou não um número primo."
      ]
    },
    {
      "cell_type": "code",
      "metadata": {
        "id": "Mz0QTsheehFM",
        "colab_type": "code",
        "colab": {}
      },
      "source": [
        ""
      ],
      "execution_count": null,
      "outputs": []
    },
    {
      "cell_type": "markdown",
      "metadata": {
        "id": "TDENiWdNemCk",
        "colab_type": "text"
      },
      "source": [
        "35. Encontrar números primos é uma tarefa difícil. Faça um programa que gera uma lista dos números primos existentes entre 1 e um número inteiro informado pelo usuário."
      ]
    },
    {
      "cell_type": "code",
      "metadata": {
        "id": "NSgfi642emQq",
        "colab_type": "code",
        "colab": {}
      },
      "source": [
        ""
      ],
      "execution_count": null,
      "outputs": []
    },
    {
      "cell_type": "markdown",
      "metadata": {
        "id": "KqyoK9tUemYy",
        "colab_type": "text"
      },
      "source": [
        "36. Desenvolva um programa que faça a tabuada de um número qualquer inteiro que será digitado pelo usuário, mas a tabuada não deve necessariamente iniciar em 1 e terminar em 10, o valor inicial e final devem ser informados também pelo usuário, conforme exemplo abaixo:\n",
        "        Montar a tabuada de: 5\n",
        "        Começar por: 4\n",
        "        Terminar em: 7\n",
        "\n",
        "        Vou montar a tabuada de 5 começando em 4 e terminando em 7:\n",
        "        5 X 4 = 20\n",
        "        5 X 5 = 25\n",
        "        5 X 6 = 30\n",
        "        5 X 7 = 35\n",
        "Obs: Você deve verificar se o usuário não digitou o final menor que o inicial."
      ]
    },
    {
      "cell_type": "code",
      "metadata": {
        "id": "etBF2r7semhS",
        "colab_type": "code",
        "colab": {}
      },
      "source": [
        ""
      ],
      "execution_count": null,
      "outputs": []
    },
    {
      "cell_type": "markdown",
      "metadata": {
        "id": "Av0nw82remnc",
        "colab_type": "text"
      },
      "source": [
        "37. Uma academia deseja fazer um senso entre seus clientes para descobrir o mais alto, o mais baixo, a mais gordo e o mais magro, para isto você deve fazer um programa que pergunte a cada um dos clientes da academia seu código, sua altura e seu peso. O final da digitação de dados deve ser dada quando o usuário digitar 0 (zero) no campo código. Ao encerrar o programa também deve ser informados os códigos e valores do clente mais alto, do mais baixo, do mais gordo e do mais magro, além da média das alturas e dos pesos dos clientes\n"
      ]
    },
    {
      "cell_type": "code",
      "metadata": {
        "id": "8pkbXD1Hemt9",
        "colab_type": "code",
        "colab": {}
      },
      "source": [
        ""
      ],
      "execution_count": null,
      "outputs": []
    },
    {
      "cell_type": "markdown",
      "metadata": {
        "id": "Qj9dOZmXem0N",
        "colab_type": "text"
      },
      "source": [
        "38. Um funcionário de uma empresa recebe aumento salarial anualmente: Sabe-se que:\n",
        "* a - Esse funcionário foi contratado em 1995, com salário inicial de R$ 1.000,00;\n",
        "* b - Em 1996 recebeu aumento de 1,5% sobre seu salário inicial;\n",
        "* c - A partir de 1997 (inclusive), os aumentos salariais sempre correspondem ao dobro do percentual do ano anterior. Faça um programa que determine o salário atual desse funcionário. Após concluir isto, altere o programa permitindo que o usuário digite o salário inicial do funcionário."
      ]
    },
    {
      "cell_type": "code",
      "metadata": {
        "id": "KNhofCoiem66",
        "colab_type": "code",
        "colab": {}
      },
      "source": [
        ""
      ],
      "execution_count": null,
      "outputs": []
    },
    {
      "cell_type": "markdown",
      "metadata": {
        "id": "4TMpO92henA9",
        "colab_type": "text"
      },
      "source": [
        "39. Faça um programa que leia dez conjuntos de dois valores, o primeiro representando o número do aluno e o segundo representando a sua altura em centímetros. Encontre o aluno mais alto e o mais baixo. Mostre o número do aluno mais alto e o número do aluno mais baixo, junto com suas alturas."
      ]
    },
    {
      "cell_type": "code",
      "metadata": {
        "id": "8nPxNPDXenHx",
        "colab_type": "code",
        "colab": {}
      },
      "source": [
        ""
      ],
      "execution_count": null,
      "outputs": []
    },
    {
      "cell_type": "markdown",
      "metadata": {
        "id": "lyjAROFRenN-",
        "colab_type": "text"
      },
      "source": [
        "40. Foi feita uma estatística em cinco cidades brasileiras para coletar dados sobre acidentes de trânsito. Foram obtidos os seguintes dados:\n",
        "* a - Código da cidade;\n",
        "* b - Número de veículos de passeio (em 1999);\n",
        "* c - Número de acidentes de trânsito com vítimas (em 1999). Deseja-se saber:\n",
        "* d - Qual o maior e menor índice de acidentes de transito e a que cidade pertence;\n",
        "* e - Qual a média de veículos nas cinco cidades juntas;\n",
        "* f - Qual a média de acidentes de trânsito nas cidades com menos de 2.000 veículos de passeio."
      ]
    },
    {
      "cell_type": "code",
      "metadata": {
        "id": "BuQhj-zWenVu",
        "colab_type": "code",
        "colab": {}
      },
      "source": [
        ""
      ],
      "execution_count": null,
      "outputs": []
    },
    {
      "cell_type": "markdown",
      "metadata": {
        "id": "h0TMI1lDenbi",
        "colab_type": "text"
      },
      "source": [
        "41. Faça um programa que receba o valor de uma dívida e mostre uma tabela com os seguintes dados: valor da dívida, valor dos juros, quantidade de parcelas e valor da parcela.\n",
        "Os juros e a quantidade de parcelas seguem a tabela abaixo:\n",
        "        Quantidade de Parcelas  % de Juros sobre o valor inicial da dívida\n",
        "          1       0\n",
        "          3       10\n",
        "          6       15\n",
        "          9       20\n",
        "          12      25\n",
        "Exemplo de saída do programa:\n",
        "          Valor da Dívida Valor dos Juros Quantidade de Parcelas  Valor da Parcela\n",
        "          R$ 1.000,00     0               1                       R$  1.000,00\n",
        "          R$ 1.100,00     100             3                       R$    366,00\n",
        "          R$ 1.150,00     150             6                       R$    191,67"
      ]
    },
    {
      "cell_type": "code",
      "metadata": {
        "id": "57l5Bh1Penj_",
        "colab_type": "code",
        "colab": {}
      },
      "source": [
        ""
      ],
      "execution_count": null,
      "outputs": []
    },
    {
      "cell_type": "markdown",
      "metadata": {
        "id": "WTgMl097enqI",
        "colab_type": "text"
      },
      "source": [
        "42. Faça um programa que leia uma quantidade indeterminada de números positivos e conte quantos deles estão nos seguintes intervalos: [0-25], [26-50], [51-75] e [76-100]. A entrada de dados deverá terminar quando for lido um número negativo."
      ]
    },
    {
      "cell_type": "code",
      "metadata": {
        "id": "5X0ypzkSenxs",
        "colab_type": "code",
        "colab": {}
      },
      "source": [
        ""
      ],
      "execution_count": null,
      "outputs": []
    },
    {
      "cell_type": "markdown",
      "metadata": {
        "id": "HjuaXtyCen4C",
        "colab_type": "text"
      },
      "source": [
        "43. O cardápio de uma lanchonete é o seguinte:\n",
        "        Especificação   Código  Preço\n",
        "        Cachorro Quente 100     R$ 1,20\n",
        "Bauru Simples   101     R$ 1,30\n",
        "        Bauru com ovo   102     R$ 1,50\n",
        "Hambúrguer      103     R$ 1,20\n",
        "        Cheeseburguer   104     R$ 1,30\n",
        "Refrigerante    105     R$ 1,00\n",
        "\n",
        "Faça um programa que leia o código dos itens pedidos e as quantidades desejadas. Calcule e mostre o valor a ser pago por item (preço * quantidade) e o total geral do pedido. Considere que o cliente deve informar quando o pedido deve ser encerrado.\n"
      ]
    },
    {
      "cell_type": "code",
      "metadata": {
        "id": "pBaKJCk1en-r",
        "colab_type": "code",
        "colab": {}
      },
      "source": [
        ""
      ],
      "execution_count": null,
      "outputs": []
    },
    {
      "cell_type": "markdown",
      "metadata": {
        "id": "C3J1G5-VeoFW",
        "colab_type": "text"
      },
      "source": [
        "44. Em uma eleição presidencial existem quatro candidatos. Os votos são informados por meio de código. Os códigos utilizados são:\n",
        "        1 , 2, 3, 4  - Votos para os respectivos candidatos \n",
        "        (você deve montar a tabela ex: 1 - Jose/ 2- João/etc)\n",
        "        5 - Voto Nulo\n",
        "        6 - Voto em Branco\n",
        "Faça um programa que calcule e mostre:\n",
        "* O total de votos para cada candidato;\n",
        "* O total de votos nulos;\n",
        "* O total de votos em branco;\n",
        "* A percentagem de votos nulos sobre o total de votos;\n",
        "* A percentagem de votos em branco sobre o total de votos. Para finalizar o conjunto de votos tem-se o valor zero.\n"
      ]
    },
    {
      "cell_type": "code",
      "metadata": {
        "id": "p11-JR65eoL2",
        "colab_type": "code",
        "colab": {}
      },
      "source": [
        ""
      ],
      "execution_count": null,
      "outputs": []
    },
    {
      "cell_type": "markdown",
      "metadata": {
        "id": "HgiadwbTeoRj",
        "colab_type": "text"
      },
      "source": [
        "45. Desenvolver um programa para verificar a nota do aluno em uma prova com 10 questões, o programa deve perguntar ao aluno a resposta de cada questão e ao final comparar com o gabarito da prova e assim calcular o total de acertos e a nota (atribuir 1 ponto por resposta certa). Após cada aluno utilizar o sistema deve ser feita uma pergunta se outro aluno vai utilizar o sistema. Após todos os alunos terem respondido informar:\n",
        "Maior e Menor Acerto;\n",
        "Total de Alunos que utilizaram o sistema;\n",
        "A Média das Notas da Turma.\n",
        "        Gabarito da Prova:\n",
        "\n",
        "        01 - A\n",
        "        02 - B\n",
        "        03 - C\n",
        "        04 - D\n",
        "        05 - E\n",
        "        06 - E\n",
        "        07 - D\n",
        "        08 - C\n",
        "        09 - B\n",
        "        10 - A\n",
        "Após concluir isto você poderia incrementar o programa permitindo que o professor digite o gabarito da prova antes dos alunos usarem o programa."
      ]
    },
    {
      "cell_type": "code",
      "metadata": {
        "id": "BeZXNaDMep-P",
        "colab_type": "code",
        "colab": {}
      },
      "source": [
        ""
      ],
      "execution_count": null,
      "outputs": []
    },
    {
      "cell_type": "markdown",
      "metadata": {
        "id": "H3lfsbyVeqJw",
        "colab_type": "text"
      },
      "source": [
        "46. Em uma competição de salto em distância cada atleta tem direito a cinco saltos. No final da série de saltos de cada atleta, o melhor e o pior resultados são eliminados. O seu resultado fica sendo a média dos três valores restantes. Você deve fazer um programa que receba o nome e as cinco distâncias alcançadas pelo atleta em seus saltos e depois informe a média dos saltos conforme a descrição acima informada (retirar o melhor e o pior salto e depois calcular a média). Faça uso de uma lista para armazenar os saltos. Os saltos são informados na ordem da execução, portanto não são ordenados. O programa deve ser encerrado quando não for informado o nome do atleta. A saída do programa deve ser conforme o exemplo abaixo:\n",
        "        Atleta: Rodrigo Curvêllo\n",
        "\n",
        "        Primeiro Salto: 6.5 m\n",
        "        Segundo Salto: 6.1 m\n",
        "        Terceiro Salto: 6.2 m\n",
        "        Quarto Salto: 5.4 m\n",
        "        Quinto Salto: 5.3 m\n",
        "\n",
        "        Melhor salto:  6.5 m\n",
        "        Pior salto: 5.3 m\n",
        "        Média dos demais saltos: 5.9 m\n",
        "\n",
        "        Resultado final:\n",
        "        Rodrigo Curvêllo: 5.9 m"
      ]
    },
    {
      "cell_type": "code",
      "metadata": {
        "id": "hdyN_YR9eqR2",
        "colab_type": "code",
        "colab": {}
      },
      "source": [
        ""
      ],
      "execution_count": null,
      "outputs": []
    },
    {
      "cell_type": "markdown",
      "metadata": {
        "id": "bYTtasIMeqXn",
        "colab_type": "text"
      },
      "source": [
        "47. Em uma competição de ginástica, cada atleta recebe votos de sete jurados. A melhor e a pior nota são eliminadas. A sua nota fica sendo a média dos votos restantes. Você deve fazer um programa que receba o nome do ginasta e as notas dos sete jurados alcançadas pelo atleta em sua apresentação e depois informe a sua média, conforme a descrição acima informada (retirar o melhor e o pior salto e depois calcular a média com as notas restantes). As notas não são informados ordenadas. Um exemplo de saída do programa deve ser conforme o exemplo abaixo:\n",
        "        Atleta: Aparecido Parente\n",
        "        Nota: 9.9\n",
        "        Nota: 7.5\n",
        "        Nota: 9.5\n",
        "        Nota: 8.5\n",
        "        Nota: 9.0\n",
        "        Nota: 8.5\n",
        "        Nota: 9.7\n",
        "\n",
        "        Resultado final:\n",
        "        Atleta: Aparecido Parente\n",
        "        Melhor nota: 9.9\n",
        "        Pior nota: 7.5\n",
        "        Média: 9,04"
      ]
    },
    {
      "cell_type": "code",
      "metadata": {
        "id": "1xBUofRZeqdk",
        "colab_type": "code",
        "colab": {}
      },
      "source": [
        ""
      ],
      "execution_count": null,
      "outputs": []
    },
    {
      "cell_type": "markdown",
      "metadata": {
        "id": "pqtDlru0eqjT",
        "colab_type": "text"
      },
      "source": [
        "48. Faça um programa que peça um numero inteiro positivo e em seguida mostre este numero invertido.\n",
        "Exemplo:\n",
        "        12376489\n",
        "        => 98467321"
      ]
    },
    {
      "cell_type": "code",
      "metadata": {
        "id": "G_4b9DQ3eqr0",
        "colab_type": "code",
        "colab": {}
      },
      "source": [
        ""
      ],
      "execution_count": null,
      "outputs": []
    },
    {
      "cell_type": "markdown",
      "metadata": {
        "id": "nU-2KJEGeqwi",
        "colab_type": "text"
      },
      "source": [
        "49. Faça um programa que mostre os n termos da Série a seguir:\n",
        "          S = 1/1 + 2/3 + 3/5 + 4/7 + 5/9 + ... + n/m. \n",
        "\n",
        "    Imprima no final a soma da série."
      ]
    },
    {
      "cell_type": "code",
      "metadata": {
        "id": "LmWAL1cteq2g",
        "colab_type": "code",
        "colab": {}
      },
      "source": [
        ""
      ],
      "execution_count": null,
      "outputs": []
    },
    {
      "cell_type": "markdown",
      "metadata": {
        "id": "gGocvOmTeq7j",
        "colab_type": "text"
      },
      "source": [
        "50. Sendo H= 1 + 1/2 + 1/3 + 1/4 + ... + 1/N, Faça um programa que calcule o valor de H com N termos."
      ]
    },
    {
      "cell_type": "code",
      "metadata": {
        "id": "0ZxjnpdHerCe",
        "colab_type": "code",
        "colab": {}
      },
      "source": [
        ""
      ],
      "execution_count": null,
      "outputs": []
    },
    {
      "cell_type": "markdown",
      "metadata": {
        "id": "aP-aLYJ4erHx",
        "colab_type": "text"
      },
      "source": [
        "51. Faça um programa que mostre os n termos da Série a seguir:\n",
        "        S = 1/1 + 2/3 + 3/5 + 4/7 + 5/9 + ... + n/m. \n",
        "Imprima no final a soma da série."
      ]
    },
    {
      "cell_type": "code",
      "metadata": {
        "id": "Xi1fV8POerNR",
        "colab_type": "code",
        "colab": {}
      },
      "source": [
        ""
      ],
      "execution_count": null,
      "outputs": []
    }
  ]
}